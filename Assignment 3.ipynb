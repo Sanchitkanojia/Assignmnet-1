{
 "cells": [
  {
   "cell_type": "markdown",
   "id": "developing-sterling",
   "metadata": {},
   "source": [
    "<b>Number 1 - \n",
    "- Question -\n",
    "> Why are functions advantageous to have in your programs?\n",
    "\n",
    "- Answer -\n",
    "> Functions reduce the need for duplicate code. This makes programs shorter, easier to read, and easier to update.\n"
   ]
  },
  {
   "cell_type": "markdown",
   "id": "signal-combine",
   "metadata": {},
   "source": [
    "<b>Number 2 - \n",
    "- Question -\n",
    "> When does the code in a function run: when it's specified or when it's called?\n",
    "\n",
    "- Answer -\n",
    "> The code in a function executes when the function is called, not when the function is defined.\n",
    "\n",
    "    "
   ]
  },
  {
   "cell_type": "markdown",
   "id": "urban-category",
   "metadata": {},
   "source": [
    "<b>Number 3 - \n",
    "- Question -\n",
    "> What statement creates a function?\n",
    "\n",
    "- Answer -\n",
    "> The def statement defines, i.e. creates a function.\n",
    "\n",
    "    "
   ]
  },
  {
   "cell_type": "markdown",
   "id": "visible-cotton",
   "metadata": {},
   "source": [
    "<b>Number 4\n",
    "    - \n",
    "- Question -\n",
    "> What is the difference between a function and a function call?\n",
    "\n",
    "- Answer -\n",
    "> A function consists of the def statement and the code in its def clause.\n",
    "> A function call is what moves the program execution into the function, and the function call evaluates to the function's return value.\n",
    "\n",
    "    "
   ]
  },
  {
   "cell_type": "markdown",
   "id": "continued-obligation",
   "metadata": {},
   "source": [
    "<b>Number 5 - \n",
    "- Question -\n",
    "> How many global scopes are there in a Python program? How many local scopes?\n",
    "\n",
    "- Answer -\n",
    "> There is one global scope, and a local scope is created whenever a function is called.\n",
    "\n",
    "    \n"
   ]
  },
  {
   "cell_type": "markdown",
   "id": "organized-novel",
   "metadata": {},
   "source": [
    "<b>Number 6 - \n",
    "- Question -\n",
    "> What happens to variables in a local scope when the function call returns?\n",
    "\n",
    "- Answer -\n",
    "> When a function call returns, the variables defined within the local scope of the function are destroyed and cease to exist. This means that the memory allocated for those variables is freed up and can be used for other purposes.\n",
    "    "
   ]
  },
  {
   "cell_type": "markdown",
   "id": "hourly-lancaster",
   "metadata": {},
   "source": [
    "<b>Number 7 - \n",
    "- Question -\n",
    "> What is the concept of a return value? Is it possible to have a return value in an expression?\n",
    "\n",
    "- Answer -\n",
    "> The concept of a return value refers to the value that a function can send back to the caller after its execution is complete. When a function is called, it can perform computations, manipulate data, or perform other operations, and then it can optionally return a value to the caller.\n",
    "    \n",
    "\n",
    "    Regarding the second part of your question, yes, it is possible to have a return value in an expression. In many programming languages, including Python, you can directly use the return value of a function within an expression or assign it to a variable for further processing.\n",
    "\n",
    "    "
   ]
  },
  {
   "cell_type": "markdown",
   "id": "polyphonic-cartridge",
   "metadata": {},
   "source": [
    "<b>Number 8 - \n",
    "- Question -\n",
    "> If a function does not have a return statement, what is the return value of a call to that function?\n",
    "\n",
    "- Answer -\n",
    "> If there is no return statement for a function, its return value is None.\n",
    "\n",
    "    "
   ]
  },
  {
   "cell_type": "markdown",
   "id": "silent-judgment",
   "metadata": {},
   "source": [
    "<b>Number 9 - \n",
    "- Question -\n",
    "> How do you make a function variable refer to the global variable?\n",
    "\n",
    "- Answer -\n",
    "> In Python, if you want to make a function variable refer to a global variable, you can use the global keyword within the function. This keyword allows you to indicate that a variable is a global variable and should be accessed from the global scope instead of creating a new local variable with the same name within the function's scope.\n",
    "    "
   ]
  },
  {
   "cell_type": "markdown",
   "id": "spiritual-sister",
   "metadata": {},
   "source": [
    "<b>Number 10 - \n",
    "- Question -\n",
    "> What is the data type of None?\n",
    "\n",
    "- Answer -\n",
    "> The data type of None in Python is a special type called NoneType. It represents the absence of a value or the lack of a specific object. None is commonly used to indicate the absence of a meaningful result or to represent the default value of variables that have not been assigned a value.\n",
    "\n",
    "    "
   ]
  },
  {
   "cell_type": "markdown",
   "id": "monetary-approach",
   "metadata": {},
   "source": [
    "<b>Number 11- \n",
    "- Question -\n",
    "> What does the sentence import areallyourpetsnamederic do?\n",
    "\n",
    "- Answer -\n",
    "> The sentence \"import areallyourpetsnamederic\" does not have any inherent meaning or effect on its own. It is not a valid Python import statement and does not correspond to any existing Python module or package.\n",
    "\n",
    "In Python, the import statement is used to bring in external modules or packages into your current code file, allowing you to access their functionality. The syntax for a valid import statement is import module_name.\n",
    "\n",
    "So, \"import areallyourpetsnamederic\" would simply result in a SyntaxError because \"areallyourpetsnamederic\" is not a recognized module or package in Python. It is likely an arbitrary or nonsensical example phrase used to illustrate the structure of an import statement or to convey the concept of importing modules in Python.\n",
    "\n",
    "    "
   ]
  },
  {
   "cell_type": "markdown",
   "id": "veterinary-sierra",
   "metadata": {},
   "source": [
    "<b>Number 12 - \n",
    "- Question -\n",
    "> If you had a bacon() feature in a spam module, what would you call it after importing spam?\n",
    "\n",
    "- Answer -\n",
    "> If you have a feature named bacon() in a module called spam, after importing the spam module, you can call the bacon() function using the following syntax:\n",
    "    \n",
    "    import spam\n",
    "\n",
    "    spam.bacon()\n",
    "\n",
    "\n",
    "    "
   ]
  },
  {
   "cell_type": "markdown",
   "id": "pleased-slovenia",
   "metadata": {},
   "source": [
    "<b>Number 13 - \n",
    "- Question -\n",
    "> What can you do to save a programme from crashing if it encounters an error?\n",
    "\n",
    "- Answer -\n",
    "> To save a program from crashing when encountering an error, you can implement error handling techniques.\n",
    "\n",
    "    "
   ]
  },
  {
   "cell_type": "markdown",
   "id": "recovered-python",
   "metadata": {},
   "source": [
    "<b>Number 14 - \n",
    "- Question -\n",
    "> What is the purpose of the try clause? What is the purpose of the except clause?\n",
    "\n",
    "- Answer -\n",
    "> - The code that could potentially cause an error goes in the try clause.\n",
    "\n",
    "    > -The code that executes if an error happens goes in the except clause.\n",
    "\n",
    "    "
   ]
  }
 ],
 "metadata": {
  "kernelspec": {
   "display_name": "Python 3 (ipykernel)",
   "language": "python",
   "name": "python3"
  },
  "language_info": {
   "codemirror_mode": {
    "name": "ipython",
    "version": 3
   },
   "file_extension": ".py",
   "mimetype": "text/x-python",
   "name": "python",
   "nbconvert_exporter": "python",
   "pygments_lexer": "ipython3",
   "version": "3.9.6"
  },
  "toc": {
   "base_numbering": 1,
   "nav_menu": {},
   "number_sections": true,
   "sideBar": true,
   "skip_h1_title": false,
   "title_cell": "Table of Contents",
   "title_sidebar": "Contents",
   "toc_cell": false,
   "toc_position": {},
   "toc_section_display": true,
   "toc_window_display": false
  }
 },
 "nbformat": 4,
 "nbformat_minor": 5
}
