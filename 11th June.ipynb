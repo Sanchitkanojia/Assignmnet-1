{
 "cells": [
  {
   "cell_type": "markdown",
   "id": "developing-sterling",
   "metadata": {},
   "source": [
    "<b>Number 1 - \n",
    "- Question -\n",
    "> What is a lambda function in Python, and how does it differ from a regular function?\n",
    "\n",
    "- Answer - A lambda function is a small anonymous function.\n",
    " A lambda function can take any number of arguments, but can only have one expression.\n",
    "\n",
    "\n",
    "    A lambda function is an anonymous function (i.e., defined without a name) that can take any number of arguments but, unlike normal functions, evaluates and returns only one expression. Unlike a normal function, we don't surround the parameters of a lambda function with parentheses.\n",
    "\n",
    "> "
   ]
  },
  {
   "cell_type": "markdown",
   "id": "67ad5069",
   "metadata": {},
   "source": [
    "<b>-----------------------------------------------------------------------------------------------------------------------------------------------------------------------------------------------"
   ]
  },
  {
   "cell_type": "markdown",
   "id": "signal-combine",
   "metadata": {},
   "source": [
    "<b>Number 2 - \n",
    "- Question -\n",
    "> Can a lambda function in Python have multiple arguments? If yes, how can you define and use\n",
    "them?\n",
    "\n",
    "- Answer - Yes, a Lambda function in Python can have multiple arguments. In Python, lambda functions are anonymous functions that can take any number of arguments but can only have one expression.\n",
    "\n",
    "    \n",
    "To define a lambda function with multiple arguments, you can separate the arguments using commas and specify them before the colon (\":\") that separates the arguments from the expression.\n",
    "   "
   ]
  },
  {
   "cell_type": "code",
   "execution_count": 1,
   "id": "1db1cf3a",
   "metadata": {},
   "outputs": [
    {
     "name": "stdout",
     "output_type": "stream",
     "text": [
      "15\n"
     ]
    }
   ],
   "source": [
    "# Example of a lambda function with multiple arguments:\n",
    "multiply = lambda x, y: x * y\n",
    "\n",
    "result = multiply(5, 3)\n",
    "print(result)  # Output: 15\n"
   ]
  },
  {
   "cell_type": "markdown",
   "id": "99145f78",
   "metadata": {},
   "source": [
    "<b>-----------------------------------------------------------------------------------------------------------------------------------------------------------------------------------------------"
   ]
  },
  {
   "cell_type": "markdown",
   "id": "urban-category",
   "metadata": {},
   "source": [
    "<b>Number 3 - \n",
    "- Question -\n",
    "> How are lambda functions typically used in Python? Provide an example use case.\n",
    "\n",
    "- Answer -\n",
    "> Lambda functions in Python are commonly used in situations where a small, anonymous function is required, typically as an argument to higher-order functions or for short-lived tasks. \n",
    "\n",
    "Here are a few examples of use cases where lambda functions can be handy:"
   ]
  },
  {
   "cell_type": "code",
   "execution_count": 1,
   "id": "5cfbaba2",
   "metadata": {},
   "outputs": [
    {
     "name": "stdout",
     "output_type": "stream",
     "text": [
      "[(4, 'apple'), (2, 'banana'), (3, 'cherry')]\n"
     ]
    }
   ],
   "source": [
    "# Sorting\n",
    "data = [(4, 'apple'), (2, 'banana'), (3, 'cherry')]\n",
    "sorted_data = sorted(data, key=lambda x: x[1])\n",
    "print(sorted_data)  # Output: [(4, 'apple'), (2, 'banana'), (3, 'cherry')]\n"
   ]
  },
  {
   "cell_type": "code",
   "execution_count": 2,
   "id": "214bb889",
   "metadata": {},
   "outputs": [
    {
     "name": "stdout",
     "output_type": "stream",
     "text": [
      "[2, 4, 6, 8, 10]\n"
     ]
    }
   ],
   "source": [
    "# Filtering\n",
    "numbers = [1, 2, 3, 4, 5, 6, 7, 8, 9, 10]\n",
    "even_numbers = filter(lambda x: x % 2 == 0, numbers)\n",
    "print(list(even_numbers))  # Output: [2, 4, 6, 8, 10]\n"
   ]
  },
  {
   "cell_type": "markdown",
   "id": "78e89a84",
   "metadata": {},
   "source": [
    "<b>-----------------------------------------------------------------------------------------------------------------------------------------------------------------------------------------------"
   ]
  },
  {
   "cell_type": "markdown",
   "id": "visible-cotton",
   "metadata": {},
   "source": [
    "<b>Number 4\n",
    "    - \n",
    "- Question -\n",
    "> What are the advantages and limitations of lambda functions compared to regular functions in\n",
    "Python?\n",
    "- Answer -\n",
    "> Advantages of Lambda Functions:\n",
    "\n",
    "1. Concise and Readable Code: Lambda functions allow you to define simple, one-line functions inline without the need for a formal function definition. This can make your code more concise and easier to read, especially for short and straightforward operations.\n",
    "\n",
    "2. Anonymous Functions: Lambda functions are anonymous, meaning they don't require a named function definition. This is beneficial when you need a function for a specific task but don't want to define a separate named function.\n",
    "\n",
    "3. Higher-Order Functions: Lambda functions are commonly used as arguments to higher-order functions such as map(), filter(), and sorted(). They provide a convenient way to express small functions for immediate use.\n",
    "\n",
    ">Limitations of Lambda Functions:\n",
    "\n",
    "1. Single Expression Limitation: Lambda functions are restricted to a single expression. Unlike regular functions, you cannot include multiple statements or complex logic in a lambda function. If you require more complex operations, you'll need to use a regular function.\n",
    "\n",
    "2. No Statements or Documentation Strings: Lambda functions can only contain a single expression and cannot include statements like return or print. Additionally, lambda functions cannot have documentation strings (docstrings) to describe their purpose or usage.\n",
    "\n",
    "3. Limited Functionality: Lambda functions are best suited for small, simple tasks. If your function requires multiple lines of code, conditional statements, or intricate logic, it's more appropriate to use a regular function for better readability and maintainability.\n",
    "\n",
    "4. Reduced Reusability: Lambda functions are primarily designed for short-lived and specific tasks. They lack a name and cannot be reused in different parts of your codebase. If you need to reuse a function across multiple locations, a regular function is a better choice."
   ]
  },
  {
   "cell_type": "markdown",
   "id": "fbf766dd",
   "metadata": {},
   "source": [
    "<b>-----------------------------------------------------------------------------------------------------------------------------------------------------------------------------------------------"
   ]
  },
  {
   "cell_type": "markdown",
   "id": "continued-obligation",
   "metadata": {},
   "source": [
    "<b>Number 5 - \n",
    "- Question -\n",
    "> Are lambda functions in Python able to access variables defined outside of their own scope?\n",
    "Explain with an example.\n",
    "\n",
    "- Answer - \n",
    "Yes, lambda functions in Python can access variables defined outside of their own scope. This is possible through lexical scoping, which allows lambda functions to access variables from the enclosing scope where they are defined.\n",
    "\n",
    "\n",
    "Here's an example to demonstrate how lambda functions can access variables from the outer scope:\n",
    "    \n"
   ]
  },
  {
   "cell_type": "code",
   "execution_count": 3,
   "id": "af746043",
   "metadata": {},
   "outputs": [
    {
     "name": "stdout",
     "output_type": "stream",
     "text": [
      "15\n"
     ]
    }
   ],
   "source": [
    "def outer_function():\n",
    "    outer_variable = 10\n",
    "\n",
    "    inner_function = lambda x: x + outer_variable\n",
    "\n",
    "    return inner_function\n",
    "\n",
    "closure = outer_function()\n",
    "result = closure(5)\n",
    "print(result)  # Output: 15\n"
   ]
  },
  {
   "cell_type": "markdown",
   "id": "07d1d015",
   "metadata": {},
   "source": [
    "<b>-----------------------------------------------------------------------------------------------------------------------------------------------------------------------------------------------"
   ]
  },
  {
   "cell_type": "markdown",
   "id": "organized-novel",
   "metadata": {},
   "source": [
    "<b>Number 6 - \n",
    "- Question -\n",
    "> Write a lambda function to calculate the square of a given number.\n",
    "- Answer -"
   ]
  },
  {
   "cell_type": "code",
   "execution_count": 3,
   "id": "f9681625",
   "metadata": {},
   "outputs": [
    {
     "name": "stdout",
     "output_type": "stream",
     "text": [
      "Enter a number: 8\n"
     ]
    },
    {
     "data": {
      "text/plain": [
       "64"
      ]
     },
     "execution_count": 3,
     "metadata": {},
     "output_type": "execute_result"
    }
   ],
   "source": [
    "square = lambda x : x ** 2\n",
    "square(int(input(\"Enter a number: \")))"
   ]
  },
  {
   "cell_type": "markdown",
   "id": "d5750997",
   "metadata": {},
   "source": [
    "<b>-----------------------------------------------------------------------------------------------------------------------------------------------------------------------------------------------"
   ]
  },
  {
   "cell_type": "markdown",
   "id": "hourly-lancaster",
   "metadata": {},
   "source": [
    "<b>Number 7 - \n",
    "- Question -\n",
    "> Create a lambda function to find the maximum value in a list of integers.\n",
    "\n",
    "- Answer -   "
   ]
  },
  {
   "cell_type": "code",
   "execution_count": 24,
   "id": "4834f7e1",
   "metadata": {},
   "outputs": [
    {
     "data": {
      "text/plain": [
       "100"
      ]
     },
     "execution_count": 24,
     "metadata": {},
     "output_type": "execute_result"
    }
   ],
   "source": [
    "list = [1, 2, 100, 3, 4, 85]\n",
    "\n",
    "max_value = lambda given_list: max(given_list)\n",
    "max_value(list)"
   ]
  },
  {
   "cell_type": "markdown",
   "id": "c7c9ac20",
   "metadata": {},
   "source": [
    "<b>-----------------------------------------------------------------------------------------------------------------------------------------------------------------------------------------------"
   ]
  },
  {
   "cell_type": "markdown",
   "id": "polyphonic-cartridge",
   "metadata": {},
   "source": [
    "<b>Number 8 - \n",
    "- Question -\n",
    "> Implement a lambda function to filter out all the even numbers from a list of integers.\n",
    "- Answer   "
   ]
  },
  {
   "cell_type": "code",
   "execution_count": 1,
   "id": "f713c148",
   "metadata": {
    "scrolled": true
   },
   "outputs": [
    {
     "name": "stdout",
     "output_type": "stream",
     "text": [
      "[2, 4, 6, 8, 10]\n"
     ]
    }
   ],
   "source": [
    "numbers = [1, 2, 3, 4, 5, 6, 7, 8, 9, 10]\n",
    "even_numbers = list(filter(lambda x : x % 2 == 0, numbers))\n",
    "print(even_numbers)"
   ]
  },
  {
   "cell_type": "markdown",
   "id": "9553cf03",
   "metadata": {},
   "source": [
    "<b>-----------------------------------------------------------------------------------------------------------------------------------------------------------------------------------------------"
   ]
  },
  {
   "cell_type": "markdown",
   "id": "silent-judgment",
   "metadata": {},
   "source": [
    "<b>Number 9 - \n",
    "- Question -\n",
    "> Write a lambda function to sort a list of strings in ascending order based on the length of each\n",
    "string.\n",
    "\n",
    "- Answer -"
   ]
  },
  {
   "cell_type": "code",
   "execution_count": 18,
   "id": "04c7d571",
   "metadata": {},
   "outputs": [
    {
     "data": {
      "text/plain": [
       "['Rohan', 'Nikhil', 'Sanchit', 'Arshjot', 'Abhishek']"
      ]
     },
     "execution_count": 18,
     "metadata": {},
     "output_type": "execute_result"
    }
   ],
   "source": [
    "strings = [\"Abhishek\", \"Rohan\", \"Sanchit\", \"Nikhil\", \"Arshjot\"]\n",
    "sorted_list = sorted(strings, key = lambda x : len(x))\n",
    "sorted_list"
   ]
  },
  {
   "cell_type": "markdown",
   "id": "c0e4cebc",
   "metadata": {},
   "source": [
    "<b>-----------------------------------------------------------------------------------------------------------------------------------------------------------------------------------------------"
   ]
  },
  {
   "cell_type": "markdown",
   "id": "spiritual-sister",
   "metadata": {},
   "source": [
    "<b>Number 10 - \n",
    "- Question -\n",
    "> Create a lambda function that takes two lists as input and returns a new list containing the\n",
    "common elements between the two lists.\n",
    "\n",
    "\n",
    "- Answer -"
   ]
  },
  {
   "cell_type": "code",
   "execution_count": 4,
   "id": "2664f48d",
   "metadata": {},
   "outputs": [
    {
     "name": "stdout",
     "output_type": "stream",
     "text": [
      "[4, 5, 5]\n"
     ]
    }
   ],
   "source": [
    "list1 = [1, 2, 3, 4, 5, 5]\n",
    "list2 = [4, 5, 6, 7, 8, 5]\n",
    "\n",
    "common_elements = list(filter(lambda x : x in list1, list2))\n",
    "print(common_elements)"
   ]
  },
  {
   "cell_type": "markdown",
   "id": "e1f096f1",
   "metadata": {},
   "source": [
    "<b>-----------------------------------------------------------------------------------------------------------------------------------------------------------------------------------------------"
   ]
  },
  {
   "cell_type": "markdown",
   "id": "monetary-approach",
   "metadata": {},
   "source": [
    "<b>Number 11- \n",
    "- Question -\n",
    "> Write a recursive function to calculate the factorial of a given positive integer.\n",
    "\n",
    "- Answer -"
   ]
  },
  {
   "cell_type": "code",
   "execution_count": 4,
   "id": "d0109abb",
   "metadata": {},
   "outputs": [
    {
     "name": "stdout",
     "output_type": "stream",
     "text": [
      "Enter a number: 4\n"
     ]
    },
    {
     "data": {
      "text/plain": [
       "24"
      ]
     },
     "execution_count": 4,
     "metadata": {},
     "output_type": "execute_result"
    }
   ],
   "source": [
    "def factorial(num):\n",
    "    if num == 1 or num == 0:\n",
    "        return 1\n",
    "    else:\n",
    "        return num * factorial(num - 1)\n",
    "    \n",
    "number = int(input(\"Enter a number: \"))\n",
    "factorial(number)\n",
    "        "
   ]
  },
  {
   "cell_type": "markdown",
   "id": "090553e8",
   "metadata": {},
   "source": [
    "<b>-----------------------------------------------------------------------------------------------------------------------------------------------------------------------------------------------"
   ]
  },
  {
   "cell_type": "markdown",
   "id": "veterinary-sierra",
   "metadata": {},
   "source": [
    "<b>Number 12 - \n",
    "- Question -\n",
    ">  Implement a recursive function to compute the nth Fibonacci number.\n",
    "- Answer -   "
   ]
  },
  {
   "cell_type": "code",
   "execution_count": 5,
   "id": "b8aaf1bd",
   "metadata": {},
   "outputs": [
    {
     "name": "stdout",
     "output_type": "stream",
     "text": [
      "Enter a number: 5\n",
      "8\n"
     ]
    }
   ],
   "source": [
    "def fib(num):\n",
    "    if num <= 0:\n",
    "        return None\n",
    "    if num == 1 or num == 2:\n",
    "        return num\n",
    "    else:\n",
    "        return fib(num - 1) + fib(num - 2)\n",
    "\n",
    "number = int(input(\"Enter a number: \"))\n",
    "print(fib(number))"
   ]
  },
  {
   "cell_type": "markdown",
   "id": "377029b1",
   "metadata": {},
   "source": [
    "<b>-----------------------------------------------------------------------------------------------------------------------------------------------------------------------------------------------"
   ]
  },
  {
   "cell_type": "markdown",
   "id": "pleased-slovenia",
   "metadata": {},
   "source": [
    "<b>Number 13 - \n",
    "- Question -\n",
    "> Create a recursive function to find the sum of all the elements in a given list.\n",
    "- Answer -  "
   ]
  },
  {
   "cell_type": "code",
   "execution_count": 36,
   "id": "0b769a09",
   "metadata": {},
   "outputs": [
    {
     "name": "stdout",
     "output_type": "stream",
     "text": [
      "The sum of the elements in the list: 15\n"
     ]
    }
   ],
   "source": [
    "def recursive_sum(lst):\n",
    "    if not lst:\n",
    "        return 0     # Base case: empty list, sum is 0\n",
    "    else:\n",
    "        return lst[0] + recursive_sum(lst[1:])\n",
    "\n",
    "my_list = [1, 2, 3, 4, 5]\n",
    "result = recursive_sum(my_list)\n",
    "print(f\"The sum of the elements in the list: {result}\")"
   ]
  },
  {
   "cell_type": "markdown",
   "id": "65b6a9fe",
   "metadata": {},
   "source": [
    "<b>-----------------------------------------------------------------------------------------------------------------------------------------------------------------------------------------------"
   ]
  },
  {
   "cell_type": "markdown",
   "id": "recovered-python",
   "metadata": {},
   "source": [
    "<b>Number 14 - \n",
    "- Question -\n",
    "> Write a recursive function to determine whether a given string is a palindrome.\n",
    "\n",
    "- Answer -"
   ]
  },
  {
   "cell_type": "code",
   "execution_count": 5,
   "id": "bda96f17",
   "metadata": {},
   "outputs": [
    {
     "name": "stdout",
     "output_type": "stream",
     "text": [
      "Enter the string :racecar\n",
      "The string is: racecar\n",
      "The string is a palindrome\n"
     ]
    }
   ],
   "source": [
    "def check_palindrome(my_str):\n",
    "    if len(my_str) < 1:\n",
    "        return True\n",
    "    else:\n",
    "        if my_str[0] == my_str[-1]:\n",
    "            return check_palindrome(my_str[1:-1])\n",
    "        else:\n",
    "            return False\n",
    "        \n",
    "my_string = str(input(\"Enter the string :\"))\n",
    "\n",
    "print(f\"The string is: {my_string}\")\n",
    "\n",
    "if(check_palindrome(my_string)==True):\n",
    "    print(\"The string is a palindrome\")\n",
    "else:\n",
    "    print(\"The string isn't a palindrome\")"
   ]
  },
  {
   "cell_type": "markdown",
   "id": "94888a58",
   "metadata": {},
   "source": [
    "<b>-----------------------------------------------------------------------------------------------------------------------------------------------------------------------------------------------"
   ]
  },
  {
   "cell_type": "markdown",
   "id": "82c047ac",
   "metadata": {},
   "source": [
    "<b>Number 15 - \n",
    "- Question -\n",
    "> Implement a recursive function to find the greatest common divisor (GCD) of two positive integers.\n",
    "\n",
    "- Answer -"
   ]
  },
  {
   "cell_type": "code",
   "execution_count": 8,
   "id": "a26716d7",
   "metadata": {},
   "outputs": [
    {
     "name": "stdout",
     "output_type": "stream",
     "text": [
      "Enter the value of a: 25\n",
      "Enter the value of b: 45\n",
      "5\n"
     ]
    }
   ],
   "source": [
    "def gcd(a, b):\n",
    "    if a == b:\n",
    "        return a\n",
    "    elif a < b:\n",
    "        return gcd(b, a)\n",
    "    else:\n",
    "        return gcd(b, a - b)\n",
    "\n",
    "a = int(input(\"Enter the value of a: \"))\n",
    "b = int(input(\"Enter the value of b: \"))\n",
    "print(gcd(a, b))"
   ]
  },
  {
   "cell_type": "code",
   "execution_count": null,
   "id": "0a55e287",
   "metadata": {},
   "outputs": [],
   "source": []
  },
  {
   "cell_type": "code",
   "execution_count": null,
   "id": "c70189fe",
   "metadata": {},
   "outputs": [],
   "source": []
  }
 ],
 "metadata": {
  "kernelspec": {
   "display_name": "Python 3 (ipykernel)",
   "language": "python",
   "name": "python3"
  },
  "language_info": {
   "codemirror_mode": {
    "name": "ipython",
    "version": 3
   },
   "file_extension": ".py",
   "mimetype": "text/x-python",
   "name": "python",
   "nbconvert_exporter": "python",
   "pygments_lexer": "ipython3",
   "version": "3.11.4"
  },
  "toc": {
   "base_numbering": 1,
   "nav_menu": {},
   "number_sections": true,
   "sideBar": true,
   "skip_h1_title": false,
   "title_cell": "Table of Contents",
   "title_sidebar": "Contents",
   "toc_cell": false,
   "toc_position": {},
   "toc_section_display": true,
   "toc_window_display": false
  }
 },
 "nbformat": 4,
 "nbformat_minor": 5
}
