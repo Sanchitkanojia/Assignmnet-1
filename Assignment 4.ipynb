{
 "cells": [
  {
   "cell_type": "markdown",
   "id": "76f8962d",
   "metadata": {},
   "source": [
    "# Assignment 4"
   ]
  },
  {
   "cell_type": "markdown",
   "id": "315d8304",
   "metadata": {},
   "source": [
    "<b>Number 1 - \n",
    "- Question -\n",
    "> What exactly is []?\n",
    "\n",
    "- Answer -\n",
    "> The empty list value, which is a list value that contains no items.\n",
    "\n",
    "    \n"
   ]
  },
  {
   "cell_type": "markdown",
   "id": "sharing-council",
   "metadata": {},
   "source": [
    "<b>Number 2 - \n",
    "- Question -\n",
    "> In a list of values stored in a variable called spam, how would you assign the value 'hello' as the third value? (Assume [2, 4, 6, 8, 10] are in spam.) \n",
    "\n",
    "- Answer -\n",
    "> spam[2] = 'hello' \n"
   ]
  },
  {
   "cell_type": "code",
   "execution_count": 3,
   "id": "plain-cooper",
   "metadata": {},
   "outputs": [
    {
     "name": "stdout",
     "output_type": "stream",
     "text": [
      "[2, 4, 'hello', 8, 10]\n"
     ]
    }
   ],
   "source": [
    "spam = [2, 4, 6, 8, 10]\n",
    "spam[2] = 'hello' \n",
    "print(spam)"
   ]
  },
  {
   "cell_type": "markdown",
   "id": "common-grade",
   "metadata": {},
   "source": [
    "<b>------------------------------------------------------------------------------------------------------------------------------------------------------------------------------------------------------------------"
   ]
  },
  {
   "cell_type": "markdown",
   "id": "11e55ed5",
   "metadata": {},
   "source": [
    "<b>Let's pretend the spam includes the list ['a', 'b', 'c', 'd'] for the next three queries."
   ]
  },
  {
   "cell_type": "markdown",
   "id": "acute-talent",
   "metadata": {},
   "source": [
    "<b>Number 3 - \n",
    "- Question -\n",
    "> What is the value of spam[int(int('3' * 2) / 11)]?\n",
    "\n",
    "- Answer -\n",
    "To determine the value of spam[int(int('3' * 2) / 11)], let's break it down step by step:\n",
    "\n",
    "1. '3' * 2 multiplies the string '3' by 2, resulting in the string '33'.\n",
    "    \n",
    "2. int('33') converts the string '33' to an integer, which is 33.\n",
    "\n",
    "3. 33 / 11 performs the division, resulting in a float value of 3.0.\n",
    "\n",
    "4. int(3.0) converts the float value 3.0 to an integer, resulting in 3.\n",
    "\n",
    "Therefore, the expression spam[int(int('3' * 2) / 11)] is equivalent to spam[3].\n",
    "\n",
    "In the given list ['a', 'b', 'c', 'd'], the element at index 3 is 'd'. So, the value of spam[int(int('3' * 2) / 11)] is 'd'.\n",
    "\n",
    "\n",
    "\n",
    "\n",
    "\n",
    "\n",
    "\n",
    "    \n"
   ]
  },
  {
   "cell_type": "markdown",
   "id": "valid-closing",
   "metadata": {},
   "source": [
    "<b>------------------------------------------------------------------------------------------------------------------------------------------------------------------------------------------------------------------"
   ]
  },
  {
   "cell_type": "markdown",
   "id": "outdoor-setup",
   "metadata": {},
   "source": [
    "<b>Number 4\n",
    "    - \n",
    "- Question -\n",
    "> What is the value of spam[-1]?\n",
    "\n",
    "- Answer -\n",
    ">\n",
    "\n",
    "    \n"
   ]
  },
  {
   "cell_type": "code",
   "execution_count": 6,
   "id": "gross-associate",
   "metadata": {},
   "outputs": [
    {
     "data": {
      "text/plain": [
       "'d'"
      ]
     },
     "execution_count": 6,
     "metadata": {},
     "output_type": "execute_result"
    }
   ],
   "source": [
    "spam[-1]"
   ]
  },
  {
   "cell_type": "markdown",
   "id": "built-croatia",
   "metadata": {},
   "source": [
    "<b>------------------------------------------------------------------------------------------------------------------------------------------------------------------------------------------------------------------"
   ]
  },
  {
   "cell_type": "markdown",
   "id": "caring-viewer",
   "metadata": {},
   "source": [
    "<b>Number 5 - \n",
    "- Question -\n",
    "> What is the value of spam[:2]?\n",
    "\n",
    "- Answer -\n",
    ">\n"
   ]
  },
  {
   "cell_type": "code",
   "execution_count": 7,
   "id": "intensive-passenger",
   "metadata": {},
   "outputs": [
    {
     "data": {
      "text/plain": [
       "['a', 'b']"
      ]
     },
     "execution_count": 7,
     "metadata": {},
     "output_type": "execute_result"
    }
   ],
   "source": [
    "spam[:2]"
   ]
  },
  {
   "cell_type": "markdown",
   "id": "connected-partition",
   "metadata": {},
   "source": [
    "<b>------------------------------------------------------------------------------------------------------------------------------------------------------------------------------------------------------------------"
   ]
  },
  {
   "cell_type": "markdown",
   "id": "measured-planet",
   "metadata": {},
   "source": [
    "<b> Let's pretend bacon has the list [3.14, 'cat', 11, 'cat', True] for the next three questions."
   ]
  },
  {
   "cell_type": "code",
   "execution_count": 20,
   "id": "effective-employment",
   "metadata": {},
   "outputs": [],
   "source": [
    "bacon = [3.14, 'cat', 11, 'cat', True]"
   ]
  },
  {
   "cell_type": "markdown",
   "id": "complimentary-cabinet",
   "metadata": {},
   "source": [
    "<b>Number 6 - \n",
    "- Question -\n",
    "> What is the value of bacon.index('cat')?\n",
    "\n",
    "- Answer -\n",
    ">\n",
    "\n",
    "    \n"
   ]
  },
  {
   "cell_type": "code",
   "execution_count": 21,
   "id": "fifth-semester",
   "metadata": {},
   "outputs": [
    {
     "data": {
      "text/plain": [
       "1"
      ]
     },
     "execution_count": 21,
     "metadata": {},
     "output_type": "execute_result"
    }
   ],
   "source": [
    "bacon.index('cat')"
   ]
  },
  {
   "cell_type": "markdown",
   "id": "theoretical-paste",
   "metadata": {},
   "source": [
    "<b>------------------------------------------------------------------------------------------------------------------------------------------------------------------------------------------------------------------"
   ]
  },
  {
   "cell_type": "markdown",
   "id": "special-graduation",
   "metadata": {},
   "source": [
    "<b>Number 7 - \n",
    "- Question -\n",
    "> What does bacon.append(99) change the look of the list value in bacon?\n",
    "\n",
    "- Answer -\n",
    ">\n"
   ]
  },
  {
   "cell_type": "code",
   "execution_count": 8,
   "id": "running-calculator",
   "metadata": {},
   "outputs": [
    {
     "name": "stdout",
     "output_type": "stream",
     "text": [
      "[3.14, 'cat', 11, 'cat', True, 99]\n"
     ]
    }
   ],
   "source": [
    "bacon.append(99)\n",
    "bacon"
   ]
  },
  {
   "cell_type": "markdown",
   "id": "active-sister",
   "metadata": {},
   "source": [
    "<b>------------------------------------------------------------------------------------------------------------------------------------------------------------------------------------------------------------------"
   ]
  },
  {
   "cell_type": "markdown",
   "id": "conscious-adult",
   "metadata": {},
   "source": [
    "<b>Number 8 - \n",
    "- Question -\n",
    "> How does bacon.remove('cat') change the look of the list meaning in bacon?\n",
    "\n",
    "- Answer -\n",
    ">\n"
   ]
  },
  {
   "cell_type": "code",
   "execution_count": 23,
   "id": "animated-party",
   "metadata": {},
   "outputs": [],
   "source": [
    "bacon.remove('cat') "
   ]
  },
  {
   "cell_type": "code",
   "execution_count": 24,
   "id": "wrapped-coffee",
   "metadata": {},
   "outputs": [
    {
     "data": {
      "text/plain": [
       "[3.14, 11, 'cat', True, 99]"
      ]
     },
     "execution_count": 24,
     "metadata": {},
     "output_type": "execute_result"
    }
   ],
   "source": [
    "bacon"
   ]
  },
  {
   "cell_type": "markdown",
   "id": "unable-chamber",
   "metadata": {},
   "source": [
    "<b>------------------------------------------------------------------------------------------------------------------------------------------------------------------------------------------------------------------"
   ]
  },
  {
   "cell_type": "markdown",
   "id": "dynamic-madison",
   "metadata": {},
   "source": [
    "<b>Number 9 - \n",
    "- Question -\n",
    "> What are the list concatenation and list replication operators?\n",
    "\n",
    "- Answer -\n",
    "> The operator for list concatenation is +, while the operator for replication is *.\n",
    "\n",
    "    \n",
    "<b>------------------------------------------------------------------------------------------------------------------------------------------------------------------------------------------------------------------"
   ]
  },
  {
   "cell_type": "code",
   "execution_count": 9,
   "id": "d8379b82",
   "metadata": {},
   "outputs": [
    {
     "name": "stdout",
     "output_type": "stream",
     "text": [
      "[1, 2, 3, 4, 5, 6]\n"
     ]
    }
   ],
   "source": [
    "# List Concatenation operator(+):\n",
    "list1 = [1, 2, 3]\n",
    "list2 = [4, 5, 6]\n",
    "concatenated_list = list1 + list2\n",
    "\n",
    "print(concatenated_list)  # Output: [1, 2, 3, 4, 5, 6]\n"
   ]
  },
  {
   "cell_type": "code",
   "execution_count": 11,
   "id": "5ec03fee",
   "metadata": {},
   "outputs": [
    {
     "name": "stdout",
     "output_type": "stream",
     "text": [
      "[1, 2, 3, 1, 2, 3, 1, 2, 3]\n"
     ]
    }
   ],
   "source": [
    "# List Replication operator(*):\n",
    "original_list = [1, 2, 3]\n",
    "replicated_list = original_list * 3\n",
    "\n",
    "print(replicated_list)  # Output: [1, 2, 3, 1, 2, 3, 1, 2, 3]\n"
   ]
  },
  {
   "cell_type": "markdown",
   "id": "continuing-drama",
   "metadata": {},
   "source": [
    "<b>Number 10 - \n",
    "- Question -\n",
    "> What is difference between the list methods append() and insert()?\n",
    "\n",
    "- Answer -\n",
    "> While append() will add values only to the end of a list, insert() can add them anywhere in the list.\n",
    "\n",
    "    \n",
    "<b>------------------------------------------------------------------------------------------------------------------------------------------------------------------------------------------------------------------"
   ]
  },
  {
   "cell_type": "code",
   "execution_count": 12,
   "id": "3e63cd04",
   "metadata": {},
   "outputs": [
    {
     "name": "stdout",
     "output_type": "stream",
     "text": [
      "[1, 2, 3, 4]\n"
     ]
    }
   ],
   "source": [
    "# Append method:\n",
    "my_list = [1, 2, 3]\n",
    "my_list.append(4)\n",
    "\n",
    "print(my_list)  # Output: [1, 2, 3, 4]\n"
   ]
  },
  {
   "cell_type": "code",
   "execution_count": 13,
   "id": "2569bd2c",
   "metadata": {},
   "outputs": [
    {
     "name": "stdout",
     "output_type": "stream",
     "text": [
      "[1, 'a', 2, 3]\n"
     ]
    }
   ],
   "source": [
    "# Insert method:\n",
    "my_list = [1, 2, 3]\n",
    "my_list.insert(1, 'a')\n",
    "\n",
    "print(my_list)  # Output: [1, 'a', 2, 3]\n"
   ]
  },
  {
   "cell_type": "markdown",
   "id": "dietary-russia",
   "metadata": {},
   "source": [
    "<b>Number 11- \n",
    "- Question -\n",
    "> What are the two methods for removing items from a list?\n",
    "\n",
    "- Answer -\n",
    "> The pop() and the remove() list method are two ways to remove values from a list.\n",
    "\n",
    "    \n",
    "<b>------------------------------------------------------------------------------------------------------------------------------------------------------------------------------------------------------------------"
   ]
  },
  {
   "cell_type": "code",
   "execution_count": null,
   "id": "64b42ab0",
   "metadata": {},
   "outputs": [],
   "source": [
    "# remove method\n",
    "my_list = [1, 2, 3, 2, 4]\n",
    "my_list.remove(2)\n",
    "\n",
    "print(my_list)  # Output: [1, 3, 2, 4]\n"
   ]
  },
  {
   "cell_type": "code",
   "execution_count": null,
   "id": "c4a930e9",
   "metadata": {},
   "outputs": [],
   "source": [
    "# pop method\n",
    "my_list = [1, 2, 3, 4]\n",
    "popped_element = my_list.pop(1)\n",
    "\n",
    "print(my_list)         # Output: [1, 3, 4]\n",
    "print(popped_element)  # Output: 2\n"
   ]
  },
  {
   "cell_type": "markdown",
   "id": "allied-institute",
   "metadata": {},
   "source": [
    "<b>Number 12 - \n",
    "- Question -\n",
    "> Describe how list values and string values are identical.\n",
    "\n",
    "- Answer -\n",
    ">List values and string values in Python share certain similarities and characteristics:\n",
    "    \n",
    "1. Sequential Data: Both lists and strings are sequential data types. They store a collection of elements in a specific order, allowing individual elements to be accessed using indexing.\n",
    "    \n",
    "2. Indexing and Slicing: Both lists and strings support indexing and slicing. Indexing allows accessing individual elements by their position, while slicing allows extracting a portion of the data by specifying a range of indices.\n",
    "    \n",
    "3. Concatenation: Both lists and strings support concatenation using the + operator. This allows combining two or more lists or strings to create a new list or string.\n",
    "\n",
    "4. Length: The built-in len() function can be used to determine the length of both lists and strings, i.e., the number of elements or characters they contain.\n",
    "    \n",
    "<b>------------------------------------------------------------------------------------------------------------------------------------------------------------------------------------------------------------------"
   ]
  },
  {
   "cell_type": "markdown",
   "id": "stopped-coupon",
   "metadata": {},
   "source": [
    "<b>Number 13 - \n",
    "- Question -\n",
    "> What's the difference between tuples and lists?\n",
    "\n",
    "- Answer -\n",
    "> Lists are mutable; they can have values added, removed, or changed. Tuples are immutable; they cannot be changed at all. Also, tuples are written using parentheses, ( and ), while lists use the square brackets, [ and ].\n",
    "\n",
    "    \n",
    "<b>------------------------------------------------------------------------------------------------------------------------------------------------------------------------------------------------------------------"
   ]
  },
  {
   "cell_type": "markdown",
   "id": "civic-library",
   "metadata": {},
   "source": [
    "<b>Number 14 - \n",
    "- Question -\n",
    "> How do you type a tuple value that only contains the integer 42?\n",
    "\n",
    "- Answer -\n"
   ]
  },
  {
   "cell_type": "code",
   "execution_count": null,
   "id": "18c63269",
   "metadata": {},
   "outputs": [],
   "source": [
    "my_tuple = (42)"
   ]
  },
  {
   "cell_type": "markdown",
   "id": "later-calculator",
   "metadata": {},
   "source": [
    "<b>Number 15 - \n",
    "- Question -\n",
    "> How do you get a list value's tuple form? How do you get a tuple value's list form?\n",
    "\n",
    "- Answer -\n",
    "> The tuple() and list() functions, respectively.\n"
   ]
  },
  {
   "cell_type": "code",
   "execution_count": null,
   "id": "de7a0e90",
   "metadata": {},
   "outputs": [],
   "source": [
    "# get a list value's tuple\n",
    "my_list = [1, 2, 3, 4, 5]\n",
    "my_tuple = tuple(my_list)\n",
    "\n",
    "print(my_tuple)  # Output: (1, 2, 3, 4, 5)\n"
   ]
  },
  {
   "cell_type": "code",
   "execution_count": null,
   "id": "02bf885e",
   "metadata": {},
   "outputs": [],
   "source": [
    "# tuple value's list\n",
    "my_tuple = (1, 2, 3, 4, 5)\n",
    "my_list = list(my_tuple)\n",
    "\n",
    "print(my_list)  # Output: [1, 2, 3, 4, 5]\n"
   ]
  },
  {
   "cell_type": "markdown",
   "id": "closed-sweden",
   "metadata": {},
   "source": [
    "<b>Number 16 - \n",
    "- Question -\n",
    ">  Variables that \"contain\" list values are not necessarily lists themselves. Instead, what do they contain?\n",
    "\n",
    "- Answer -\n",
    "> They contain references to list values.\n"
   ]
  },
  {
   "cell_type": "code",
   "execution_count": 14,
   "id": "466ee5ae",
   "metadata": {},
   "outputs": [
    {
     "name": "stdout",
     "output_type": "stream",
     "text": [
      "[1, 2, 3, 4]\n"
     ]
    }
   ],
   "source": [
    "my_list = [1, 2, 3]\n",
    "other_list = my_list\n",
    "\n",
    "other_list.append(4)\n",
    "print(my_list)    # Output: [1, 2, 3, 4]\n"
   ]
  },
  {
   "cell_type": "markdown",
   "id": "median-williams",
   "metadata": {},
   "source": [
    "<b>Number 17 - \n",
    "- Question -\n",
    "> How do you distinguish between copy.copy() and copy.deepcopy()?\n",
    "\n",
    "- Answer -\n",
    "> The copy.copy() function will do a shallow copy of a list, while the copy.deepcopy() function will do a deep copy of a list. That is, only copy.deepcopy() will duplicate any lists inside the list.\n",
    "\n",
    " "
   ]
  },
  {
   "cell_type": "code",
   "execution_count": 18,
   "id": "6405e856",
   "metadata": {},
   "outputs": [
    {
     "name": "stdout",
     "output_type": "stream",
     "text": [
      "[10, [2, 3, 4]]\n",
      "[1, [2, 3, 4]]\n"
     ]
    }
   ],
   "source": [
    "# shallow copy\n",
    "import copy\n",
    "\n",
    "original_list = [1, [2, 3]]\n",
    "copied_list = copy.copy(original_list)\n",
    "\n",
    "original_list[0] = 10\n",
    "original_list[1].append(4)\n",
    "\n",
    "print(original_list)  # Output: [10, [2, 3, 4]]\n",
    "print(copied_list)    # Output: [1, [2, 3, 4]]\n"
   ]
  },
  {
   "cell_type": "code",
   "execution_count": 19,
   "id": "b7a2e737",
   "metadata": {},
   "outputs": [
    {
     "name": "stdout",
     "output_type": "stream",
     "text": [
      "[10, [2, 3, 4]]\n",
      "[1, [2, 3]]\n"
     ]
    }
   ],
   "source": [
    "# deep copy\n",
    "import copy\n",
    "\n",
    "original_list = [1, [2, 3]]\n",
    "deepcopied_list = copy.deepcopy(original_list)\n",
    "\n",
    "original_list[0] = 10\n",
    "original_list[1].append(4)\n",
    "\n",
    "print(original_list)     # Output: [10, [2, 3, 4]]\n",
    "print(deepcopied_list)   # Output: [1, [2, 3]]\n"
   ]
  },
  {
   "cell_type": "code",
   "execution_count": null,
   "id": "ed23bfac",
   "metadata": {},
   "outputs": [],
   "source": []
  },
  {
   "cell_type": "code",
   "execution_count": null,
   "id": "31e1d4ce",
   "metadata": {},
   "outputs": [],
   "source": []
  }
 ],
 "metadata": {
  "kernelspec": {
   "display_name": "Python 3 (ipykernel)",
   "language": "python",
   "name": "python3"
  },
  "language_info": {
   "codemirror_mode": {
    "name": "ipython",
    "version": 3
   },
   "file_extension": ".py",
   "mimetype": "text/x-python",
   "name": "python",
   "nbconvert_exporter": "python",
   "pygments_lexer": "ipython3",
   "version": "3.9.6"
  },
  "toc": {
   "base_numbering": 1,
   "nav_menu": {},
   "number_sections": true,
   "sideBar": true,
   "skip_h1_title": false,
   "title_cell": "Table of Contents",
   "title_sidebar": "Contents",
   "toc_cell": false,
   "toc_position": {},
   "toc_section_display": true,
   "toc_window_display": false
  }
 },
 "nbformat": 4,
 "nbformat_minor": 5
}
