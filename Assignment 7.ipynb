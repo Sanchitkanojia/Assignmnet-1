{
 "cells": [
  {
   "cell_type": "markdown",
   "id": "3c85f701",
   "metadata": {},
   "source": [
    "# Assignment 7"
   ]
  },
  {
   "cell_type": "markdown",
   "id": "1826892e",
   "metadata": {},
   "source": [
    "<b>Number 1 - \n",
    "- Question -\n",
    "> Create two int type variables, apply addition, subtraction, division and multiplications\n",
    "and store the results in variables. Then print the data in the following format by calling the\n",
    "variables:\n",
    "\n",
    "First variable is __ & second variable is __.\n",
    "    \n",
    "Addition: __ + __ = __\n",
    "\n",
    "Subtraction: __ - __ = __\n",
    "\n",
    "Multiplication: __ * __ = __\n",
    "\n",
    "Division: __ / __ = __\n",
    "\n",
    "- Answer -"
   ]
  },
  {
   "cell_type": "code",
   "execution_count": 3,
   "id": "50647a07",
   "metadata": {},
   "outputs": [
    {
     "name": "stdout",
     "output_type": "stream",
     "text": [
      "Enter the value of first variable: 5\n",
      "Enter the value of second variable: 10\n",
      "First variable is 5 & second variable is 10\n",
      "Addition: 5 + 10 = 15\n",
      "Subtraction: 5 - 10 = -5\n",
      "Multiplication: 5 * 10 = 50\n",
      "Division: 5 / 10 = 0.5\n"
     ]
    }
   ],
   "source": [
    "# Creating two integer variables\n",
    "first_variable = int(input(\"Enter the value of first variable: \"))\n",
    "second_variable = int(input(\"Enter the value of second variable: \"))\n",
    "\n",
    "# Performing addition, subtraction, multiplication, and division\n",
    "addition_result = first_variable + second_variable\n",
    "subtraction_result = first_variable - second_variable\n",
    "multiplication_result = first_variable * second_variable\n",
    "division_result = first_variable / second_variable\n",
    "\n",
    "# Printing the results in the desired format\n",
    "print(\"First variable is\", first_variable, \"& second variable is\", second_variable)\n",
    "print(\"Addition:\", first_variable, \"+\", second_variable, \"=\", addition_result)\n",
    "print(\"Subtraction:\", first_variable, \"-\", second_variable, \"=\", subtraction_result)\n",
    "print(\"Multiplication:\", first_variable, \"*\", second_variable, \"=\", multiplication_result)\n",
    "print(\"Division:\", first_variable, \"/\", second_variable, \"=\", division_result)\n"
   ]
  },
  {
   "cell_type": "markdown",
   "id": "signal-combine",
   "metadata": {},
   "source": [
    "<b>Number 2 - \n",
    "- Question -\n",
    "> What is the difference between the following operators:\n",
    ">(i) ‘/’ & ‘//’\n",
    "    \n",
    "                                                     (ii) ‘**’ & ‘^’\n",
    "\n",
    "- Answer -\n",
    "> (i) The main difference between '/' and '//' is in the type of result they produce. The '/' operator always returns a float, whereas the '//' operator always returns an integer (floor value). Example:\n",
    "\n",
    "    "
   ]
  },
  {
   "cell_type": "code",
   "execution_count": 4,
   "id": "bbcfea34",
   "metadata": {},
   "outputs": [
    {
     "name": "stdout",
     "output_type": "stream",
     "text": [
      "3.3333333333333335\n"
     ]
    }
   ],
   "source": [
    "n = 10 / 3  # Returns 3.3333333333333335\n",
    "print(n)"
   ]
  },
  {
   "cell_type": "code",
   "execution_count": 5,
   "id": "f59c3dcd",
   "metadata": {},
   "outputs": [
    {
     "name": "stdout",
     "output_type": "stream",
     "text": [
      "3\n"
     ]
    }
   ],
   "source": [
    "x = 10 // 3  # Returns 3\n",
    "print(x)"
   ]
  },
  {
   "cell_type": "markdown",
   "id": "31a566ab",
   "metadata": {},
   "source": [
    "(ii) ** (Exponentiation Operator):\n",
    "The ** operator is used for exponentiation, which means raising a number to a power. It is used to calculate the exponentiation of one number by another. Here's an example:"
   ]
  },
  {
   "cell_type": "code",
   "execution_count": 7,
   "id": "c559abb0",
   "metadata": {},
   "outputs": [
    {
     "name": "stdout",
     "output_type": "stream",
     "text": [
      "8\n"
     ]
    }
   ],
   "source": [
    "x = 2 ** 3\n",
    "print(x)  # Output: 8\n"
   ]
  },
  {
   "cell_type": "markdown",
   "id": "681d4f63",
   "metadata": {},
   "source": [
    "'^' (Bitwise XOR Operator):\n",
    "The '^' operator, known as the bitwise XOR operator, performs the exclusive OR (XOR) operation on the binary representation of two integers. It compares corresponding bits of two numbers and returns a new number where each bit is set if only one of the corresponding bits in the operands is set. Here's an example:"
   ]
  },
  {
   "cell_type": "code",
   "execution_count": 10,
   "id": "b8a607ea",
   "metadata": {},
   "outputs": [
    {
     "name": "stdout",
     "output_type": "stream",
     "text": [
      "6\n"
     ]
    }
   ],
   "source": [
    "x = 5 ^ 3     # 5(101) ^ 3(011)\n",
    "print(x)  # Output: 6  # 6(110)\n"
   ]
  },
  {
   "cell_type": "markdown",
   "id": "urban-category",
   "metadata": {},
   "source": [
    "<b>Number 3 - \n",
    "- Question -\n",
    ">  List the logical operators.\n",
    "- Answer -\n",
    "> In Python, the logical operators are used to perform logical operations on boolean values (True or False). The logical operators available in Python are:\n",
    "\n",
    "(i) and Operator:\n",
    "The and operator returns True if both operands are True, otherwise, it returns False. It evaluates the second operand only if the first operand is True. Here's an example:\n",
    "    "
   ]
  },
  {
   "cell_type": "code",
   "execution_count": 16,
   "id": "2537445a",
   "metadata": {},
   "outputs": [
    {
     "name": "stdout",
     "output_type": "stream",
     "text": [
      "False\n"
     ]
    }
   ],
   "source": [
    "x = True\n",
    "y = False\n",
    "result = x and y\n",
    "print(result)  # Output: False\n"
   ]
  },
  {
   "cell_type": "markdown",
   "id": "1444dbee",
   "metadata": {},
   "source": [
    "(ii) or Operator:\n",
    "The or operator returns True if either of the operands is True, otherwise, it returns False. It evaluates the second operand only if the first operand is False. Here's an example:"
   ]
  },
  {
   "cell_type": "code",
   "execution_count": 12,
   "id": "45381664",
   "metadata": {},
   "outputs": [
    {
     "name": "stdout",
     "output_type": "stream",
     "text": [
      "True\n"
     ]
    }
   ],
   "source": [
    "x = True\n",
    "y = False\n",
    "result = x or y\n",
    "print(result)  # Output: True\n"
   ]
  },
  {
   "cell_type": "markdown",
   "id": "b878a203",
   "metadata": {},
   "source": [
    "(iii) not Operator:\n",
    "The not operator is a unary operator that returns the negation of the operand. It reverses the boolean value. If the operand is True, it returns False, and if the operand is False, it returns True. Here's an example:"
   ]
  },
  {
   "cell_type": "code",
   "execution_count": 13,
   "id": "5e5ef86a",
   "metadata": {},
   "outputs": [
    {
     "name": "stdout",
     "output_type": "stream",
     "text": [
      "False\n"
     ]
    }
   ],
   "source": [
    "x = True\n",
    "result = not x\n",
    "print(result)  # Output: False\n"
   ]
  },
  {
   "cell_type": "markdown",
   "id": "visible-cotton",
   "metadata": {},
   "source": [
    "<b>Number 4\n",
    "    - \n",
    "- Question -\n",
    "> Explain right shift operator and left shift operator with examples.\n",
    "\n",
    "\n",
    "- Answer -\n",
    "> In Python, the right shift operator (>>) and the left shift operator (<<) are used to shift the bits of a binary number to the right or left, respectively. These operators are mainly used in bitwise operations. Here's an explanation of each operator with examples:\n",
    "\n",
    "(i) Right Shift Operator (>>):\n",
    "The right shift operator shifts the bits of a number to the right by a specified number of positions. It effectively divides the number by 2 for each shift to the right. The syntax is number >> n, where number is the value to be shifted, and n is the number of positions to shift. Here's an example:"
   ]
  },
  {
   "cell_type": "code",
   "execution_count": 14,
   "id": "d19d25b3",
   "metadata": {},
   "outputs": [
    {
     "name": "stdout",
     "output_type": "stream",
     "text": [
      "2\n"
     ]
    }
   ],
   "source": [
    "x = 10  # Binary: 1010\n",
    "result = x >> 2\n",
    "print(result)  # Output: 2\n",
    "\n",
    "# In the example above, x >> 2 shifts the bits of x two positions to the right, resulting in 2. The binary representation of 10 \n",
    "# is 1010, and after shifting it two positions to the right, it becomes 10, which is equivalent to 2 in decimal."
   ]
  },
  {
   "cell_type": "markdown",
   "id": "057e8c44",
   "metadata": {},
   "source": [
    "(ii) Left Shift Operator (<<):\n",
    "The left shift operator shifts the bits of a number to the left by a specified number of positions. It effectively multiplies the number by 2 for each shift to the left. The syntax is number << n, where number is the value to be shifted, and n is the number of positions to shift. Here's an example:"
   ]
  },
  {
   "cell_type": "code",
   "execution_count": 15,
   "id": "7e0d4c60",
   "metadata": {},
   "outputs": [
    {
     "name": "stdout",
     "output_type": "stream",
     "text": [
      "12\n"
     ]
    }
   ],
   "source": [
    "x = 3  # Binary: 11\n",
    "result = x << 2\n",
    "print(result)  # Output: 12\n",
    "\n",
    "# In the example above, x << 2 shifts the bits of x two positions to the left, resulting in 12. The binary representation of 3 \n",
    "# is 11, and after shifting it two positions to the left, it becomes 1100, which is equivalent to 12 in decimal."
   ]
  },
  {
   "cell_type": "markdown",
   "id": "e6039bc7",
   "metadata": {},
   "source": [
    "The right shift and left shift operators are commonly used in bitwise operations and can be useful in certain scenarios such as manipulating binary data or optimizing certain calculations."
   ]
  },
  {
   "cell_type": "markdown",
   "id": "continued-obligation",
   "metadata": {},
   "source": [
    "<b>Number 5 - \n",
    "- Question -\n",
    ">  Create a list containing int type data of length 15. Then write a code to check if 10 is\n",
    "present in the list or not.\n",
    "- Answer -\n",
    "> "
   ]
  },
  {
   "cell_type": "code",
   "execution_count": 20,
   "id": "8dc16716",
   "metadata": {},
   "outputs": [
    {
     "name": "stdout",
     "output_type": "stream",
     "text": [
      "10 is present in the list.\n"
     ]
    }
   ],
   "source": [
    "# Create a list of integers\n",
    "my_list = [5, 8, 3, 12, 7, 10, 15, 6, 1, 9, 14, 2, 11, 4, 13]\n",
    "\n",
    "# Check if 10 is present in the list\n",
    "if 10 in my_list:\n",
    "    print(\"10 is present in the list.\")\n",
    "else:\n",
    "    print(\"10 is not present in the list.\")\n"
   ]
  }
 ],
 "metadata": {
  "kernelspec": {
   "display_name": "Python 3 (ipykernel)",
   "language": "python",
   "name": "python3"
  },
  "language_info": {
   "codemirror_mode": {
    "name": "ipython",
    "version": 3
   },
   "file_extension": ".py",
   "mimetype": "text/x-python",
   "name": "python",
   "nbconvert_exporter": "python",
   "pygments_lexer": "ipython3",
   "version": "3.9.6"
  },
  "toc": {
   "base_numbering": 1,
   "nav_menu": {},
   "number_sections": true,
   "sideBar": true,
   "skip_h1_title": false,
   "title_cell": "Table of Contents",
   "title_sidebar": "Contents",
   "toc_cell": false,
   "toc_position": {},
   "toc_section_display": true,
   "toc_window_display": false
  }
 },
 "nbformat": 4,
 "nbformat_minor": 5
}
