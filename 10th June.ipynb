{
 "cells": [
  {
   "cell_type": "markdown",
   "id": "315d8304",
   "metadata": {},
   "source": [
    "<b>Number 1 - \n",
    "- Question -\n",
    ">  In Python, what is the difference between a built-in function and a user-defined function? Provide an\n",
    "example of each.\n",
    "\n",
    "- Answer -\n",
    "> <b>User Defined Function:\n",
    "\n",
    "    A function that you define yourself in a program is known as user defined function. You can give any name to a user defined function, however you cannot use the Python keywords as function name.\n",
    "In python, we define the user-defined function using def keyword, followed by the function name.\n",
    "Function name is followed by the parameters in parenthesis, followed by the colon."
   ]
  },
  {
   "cell_type": "code",
   "execution_count": 2,
   "id": "b279b17b",
   "metadata": {},
   "outputs": [
    {
     "name": "stdout",
     "output_type": "stream",
     "text": [
      "The sum of 10 and 20 is: 30\n"
     ]
    }
   ],
   "source": [
    "# Example of user defined function:\n",
    "def sum(a,b):\n",
    "    total = a + b\n",
    "    return total\n",
    "\n",
    "x = 10\n",
    "y = 20\n",
    "\n",
    "print(\"The sum of\",x,\"and\",y,\"is:\",sum(x, y))    "
   ]
  },
  {
   "cell_type": "markdown",
   "id": "e1745338",
   "metadata": {},
   "source": [
    "<b> Built in function:\n",
    "    \n",
    "The Python built-in functions are defined as the functions whose functionality is pre-defined in Python. The python interpreter has several functions that are always present for use. These functions are known as Built-in Functions."
   ]
  },
  {
   "cell_type": "code",
   "execution_count": 3,
   "id": "e5ff7423",
   "metadata": {},
   "outputs": [
    {
     "name": "stdout",
     "output_type": "stream",
     "text": [
      "0b101\n"
     ]
    }
   ],
   "source": [
    "# Example of built in function\n",
    "a=5\n",
    "print(bin(a))"
   ]
  },
  {
   "cell_type": "markdown",
   "id": "76e12621",
   "metadata": {},
   "source": [
    "<b>------------------------------------------------------------------------------------------------------------------------------------------------------------------------------------------------------------------"
   ]
  },
  {
   "cell_type": "markdown",
   "id": "sharing-council",
   "metadata": {},
   "source": [
    "<b>Number 2 - \n",
    "- Question -\n",
    ">  How can you pass arguments to a function in Python? Explain the difference between positional\n",
    "arguments and keyword arguments\n",
    "- Answer - Arguments are specified after the function name, inside the parentheses. You can add as many arguments as you want, just separate them with a comma."
   ]
  },
  {
   "cell_type": "code",
   "execution_count": 1,
   "id": "4658158d",
   "metadata": {},
   "outputs": [
    {
     "name": "stdout",
     "output_type": "stream",
     "text": [
      "Aman\n"
     ]
    }
   ],
   "source": [
    "# Example:\n",
    "def my_function(name):\n",
    "    print(name)\n",
    "\n",
    "my_function(\"Aman\")"
   ]
  },
  {
   "cell_type": "markdown",
   "id": "cdf90020",
   "metadata": {},
   "source": [
    "<b> Difference between positional arguments and keyword arguments:\n",
    ">Positional arguments are passed to a function based on their position or order. The arguments are matched with the parameters of the function based on their respective positions. The first argument is assigned to the first parameter, the second argument to the second parameter, and so on.\n",
    "    \n",
    ">Keyword arguments, also known as named arguments, are passed to a function using parameter names as keys. Each argument is assigned to the corresponding parameter based on the parameter name, regardless of its position. This provides more flexibility and clarity when calling functions with a large number of arguments or when you want to specify only a subset of the arguments."
   ]
  },
  {
   "cell_type": "markdown",
   "id": "common-grade",
   "metadata": {},
   "source": [
    "<b>------------------------------------------------------------------------------------------------------------------------------------------------------------------------------------------------------------------"
   ]
  },
  {
   "cell_type": "markdown",
   "id": "acute-talent",
   "metadata": {},
   "source": [
    "<b>Number 3 - \n",
    "- Question -\n",
    "> What is the purpose of the return statement in a function? Can a function have multiple return\n",
    "statements? Explain with an example.\n",
    "\n",
    "- Answer - A return statement ends the processing of the current function and returns control to the caller of the function.\n",
    "\n",
    "A function can have more than one return statement, but only ever run one based on a condition."
   ]
  },
  {
   "cell_type": "code",
   "execution_count": 1,
   "id": "b2bb8a39",
   "metadata": {},
   "outputs": [
    {
     "name": "stdout",
     "output_type": "stream",
     "text": [
      "2.0\n",
      "Error: Division by zero is not allowed.\n"
     ]
    }
   ],
   "source": [
    "def divide(a, b):\n",
    "    if b == 0:\n",
    "        return \"Error: Division by zero is not allowed.\"\n",
    "    else:\n",
    "        result = a / b\n",
    "        return result\n",
    "\n",
    "print(divide(10, 5))  # Output: 2.0\n",
    "print(divide(10, 0))  # Output: Error: Division by zero is not allowed."
   ]
  },
  {
   "cell_type": "markdown",
   "id": "valid-closing",
   "metadata": {},
   "source": [
    "<b>------------------------------------------------------------------------------------------------------------------------------------------------------------------------------------------------------------------"
   ]
  },
  {
   "cell_type": "markdown",
   "id": "outdoor-setup",
   "metadata": {},
   "source": [
    "<b>Number 4\n",
    "    - \n",
    "- Question -\n",
    "> What are lambda functions in Python? How are they different from regular functions? Provide an\n",
    "example where a lambda function can be useful.\n",
    "\n",
    "- Answer - A lambda function is a small anonymous function.\n",
    " A lambda function can take any number of arguments, but can only have one expression.\n",
    "\n",
    "\n",
    "    A lambda function is an anonymous function (i.e., defined without a name) that can take any number of arguments but, unlike normal functions, evaluates and returns only one expression. Unlike a normal function, we don't surround the parameters of a lambda function with parentheses.\n",
    "\n",
    "\n",
    "    \n"
   ]
  },
  {
   "cell_type": "code",
   "execution_count": 7,
   "id": "gross-associate",
   "metadata": {},
   "outputs": [
    {
     "name": "stdout",
     "output_type": "stream",
     "text": [
      "10\n"
     ]
    }
   ],
   "source": [
    "# Example\n",
    "add = lambda x, y: x + y\n",
    "print(add(6,4))"
   ]
  },
  {
   "cell_type": "markdown",
   "id": "built-croatia",
   "metadata": {},
   "source": [
    "<b>------------------------------------------------------------------------------------------------------------------------------------------------------------------------------------------------------------------"
   ]
  },
  {
   "cell_type": "markdown",
   "id": "caring-viewer",
   "metadata": {},
   "source": [
    "<b>Number 5 - \n",
    "- Question -\n",
    "> How does the concept of \"scope\" apply to functions in Python? Explain the difference between local\n",
    "scope and global scope.\n",
    "\n",
    "- Answer - \n",
    "\n",
    "In Python, the concept of \"scope\" determines the visibility and accessibility of variables and objects within different parts of a program. It defines the portion of the code where a particular name or identifier is valid and can be accessed.\n",
    "\n",
    "Local Scope:\n",
    "Local scope refers to the portion of code within a function where variables are defined. Variables declared inside a function are considered to have local scope. They are only accessible within that specific function and cannot be directly accessed from outside the function.\n",
    "    \n",
    "Global Scope:\n",
    "Global scope refers to the portion of code where variables are defined outside of any function. Variables declared outside of functions, at the top level of a module or in the global scope, have global scope. They are accessible from anywhere within the module, including inside functions.\n"
   ]
  },
  {
   "cell_type": "markdown",
   "id": "connected-partition",
   "metadata": {},
   "source": [
    "<b>------------------------------------------------------------------------------------------------------------------------------------------------------------------------------------------------------------------"
   ]
  },
  {
   "cell_type": "markdown",
   "id": "complimentary-cabinet",
   "metadata": {},
   "source": [
    "<b>Number 6 - \n",
    "- Question -\n",
    ">  How can you use the \"return\" statement in a Python function to return multiple values?\n",
    "\n",
    "- Answer -\n",
    ">\n",
    "\n",
    "    \n"
   ]
  },
  {
   "cell_type": "code",
   "execution_count": 2,
   "id": "9f120476",
   "metadata": {},
   "outputs": [
    {
     "name": "stdout",
     "output_type": "stream",
     "text": [
      "The sum is 15\n",
      "The difference is -5\n",
      "The multiplication gives 50\n",
      "The division gives 0.5\n",
      "\n"
     ]
    }
   ],
   "source": [
    "def operate(a, b):\n",
    "    sum = a + b\n",
    "    diff = a - b\n",
    "    mul = a * b\n",
    "    div = a / b\n",
    "    return sum, diff, mul, div\n",
    "\n",
    "n1 = 5\n",
    "n2 = 10\n",
    "\n",
    "sum, diff, mul, div = operate(n1, n2)\n",
    "\n",
    "print(\n",
    "    f\"The sum is {sum}\\n\"\n",
    "    f\"The difference is {diff}\\n\"\n",
    "    f\"The multiplication gives {mul}\\n\"\n",
    "    f\"The division gives {div}\\n\"\n",
    ")"
   ]
  },
  {
   "cell_type": "markdown",
   "id": "theoretical-paste",
   "metadata": {},
   "source": [
    "<b>------------------------------------------------------------------------------------------------------------------------------------------------------------------------------------------------------------------"
   ]
  },
  {
   "cell_type": "markdown",
   "id": "special-graduation",
   "metadata": {},
   "source": [
    "<b>Number 7 - \n",
    "- Question -\n",
    "> What is the difference between the \"pass by value\" and \"pass by reference\" concepts when it\n",
    "comes to function arguments in Python?\n",
    "\n",
    "- Answer -\n",
    ">In Python, the concept of \"pass by value\" and \"pass by reference\" does not work exactly as in some other programming languages. Instead, Python uses a different mechanism called \"passing arguments by object reference.\"\n",
    "\n",
    "Pass by Value(not applicable to Python):\n",
    "In \"pass by value\" (used in languages like C or Java), a copy of the value of the variable is passed to the function. Any modifications made to the parameter within the function do not affect the original variable outside the function.\n",
    "    \n",
    "Pass by Reference(not applicable to Python):\n",
    "In \"pass by reference,\" a reference to the variable itself is passed to the function. Modifying the parameter within the function also modifies the original variable outside the function."
   ]
  },
  {
   "cell_type": "markdown",
   "id": "active-sister",
   "metadata": {},
   "source": [
    "<b>------------------------------------------------------------------------------------------------------------------------------------------------------------------------------------------------------------------"
   ]
  },
  {
   "cell_type": "markdown",
   "id": "conscious-adult",
   "metadata": {},
   "source": [
    "<b>Number 8 - \n",
    "- Question -\n",
    ">  Create a function that can intake integer or decimal value and do following operations:\n",
    "    \n",
    "a. Logarithmic function (log x)\n",
    "    \n",
    "b. Exponential function (exp(x))\n",
    "    \n",
    "c. Power function with base 2(2^x)\n",
    "\n",
    "d. Square root\n",
    "\n",
    "- Answer -\n",
    ">\n"
   ]
  },
  {
   "cell_type": "code",
   "execution_count": 6,
   "id": "animated-party",
   "metadata": {},
   "outputs": [
    {
     "name": "stdout",
     "output_type": "stream",
     "text": [
      "{'logarithmic': 1.3862943611198906, 'exponential': 54.598150033144236, 'power': 16.0, 'square_root': 2.0}\n",
      "{'logarithmic': 0.4054651081081644, 'exponential': 4.4816890703380645, 'power': 2.8284271247461903, 'square_root': 1.224744871391589}\n"
     ]
    }
   ],
   "source": [
    "import math\n",
    "\n",
    "def perform_operations(value):\n",
    "    # Logarithmic function (log x)\n",
    "    log_result = math.log(value)\n",
    "\n",
    "    # Exponential function (exp(x))\n",
    "    exp_result = math.exp(value)\n",
    "\n",
    "    # Power function with base 2 (2^x)\n",
    "    power_result = math.pow(2, value)\n",
    "\n",
    "    # Square root\n",
    "    sqrt_result = math.sqrt(value)\n",
    "\n",
    "    # Return the results as a dictionary\n",
    "    return {\n",
    "        'logarithmic': log_result,\n",
    "        'exponential': exp_result,\n",
    "        'power': power_result,\n",
    "        'square_root': sqrt_result\n",
    "    }\n",
    "\n",
    "# Test the function with an integer value\n",
    "result = perform_operations(4)\n",
    "print(result)\n",
    "# Output: {'logarithmic': 1.3862943611198906, 'exponential': 54.598150033144236, 'power': 16.0, 'square_root': 2.0}\n",
    "\n",
    "# Test the function with a decimal value\n",
    "result = perform_operations(1.5)\n",
    "print(result)\n",
    "# Output: {'logarithmic': 0.4054651081081644, 'exponential': 4.4816890703380645, 'power': 2.8284271247461903, 'square_root': 1.224744871391589}\n"
   ]
  },
  {
   "cell_type": "markdown",
   "id": "unable-chamber",
   "metadata": {},
   "source": [
    "<b>------------------------------------------------------------------------------------------------------------------------------------------------------------------------------------------------------------------"
   ]
  },
  {
   "cell_type": "markdown",
   "id": "dynamic-madison",
   "metadata": {},
   "source": [
    "<b>Number 9 - \n",
    "- Question -\n",
    "> Create a function that takes a full name as an argument and returns first name and last name\n",
    "\n",
    "- Answer -"
   ]
  },
  {
   "cell_type": "code",
   "execution_count": 4,
   "id": "968a5936",
   "metadata": {},
   "outputs": [
    {
     "name": "stdout",
     "output_type": "stream",
     "text": [
      "First name:  John\n",
      "Last name:  Doe\n"
     ]
    }
   ],
   "source": [
    "def get_first_and_last_name(full_name):\n",
    "    name_parts = full_name.split()    # Split the full name into separate parts based on spaces\n",
    "    first_name = name_parts[0]        # Retrieve the first name (first element in the list)\n",
    "    last_name = name_parts[-1]        # Retrieve the last name (last element in the list)\n",
    "    \n",
    "    return first_name, last_name      # Return the first name and last name as a tuple\n",
    "\n",
    "name = \"John Doe\"\n",
    "first, last = get_first_and_last_name(name)\n",
    "print(\"First name: \", first)          # Output: First name: John\n",
    "print(\"Last name: \", last)            # Output: Last name: Doe"
   ]
  },
  {
   "cell_type": "markdown",
   "id": "082f3ae5",
   "metadata": {},
   "source": [
    "<b>----------------------------------------------------------------------------------------------------------------------\n",
    "--------------------------------------------------------------------------------------------"
   ]
  },
  {
   "cell_type": "code",
   "execution_count": null,
   "id": "90b39991",
   "metadata": {},
   "outputs": [],
   "source": []
  },
  {
   "cell_type": "code",
   "execution_count": null,
   "id": "85a418cb",
   "metadata": {},
   "outputs": [],
   "source": []
  }
 ],
 "metadata": {
  "kernelspec": {
   "display_name": "Python 3 (ipykernel)",
   "language": "python",
   "name": "python3"
  },
  "language_info": {
   "codemirror_mode": {
    "name": "ipython",
    "version": 3
   },
   "file_extension": ".py",
   "mimetype": "text/x-python",
   "name": "python",
   "nbconvert_exporter": "python",
   "pygments_lexer": "ipython3",
   "version": "3.11.4"
  },
  "toc": {
   "base_numbering": 1,
   "nav_menu": {},
   "number_sections": true,
   "sideBar": true,
   "skip_h1_title": false,
   "title_cell": "Table of Contents",
   "title_sidebar": "Contents",
   "toc_cell": false,
   "toc_position": {},
   "toc_section_display": true,
   "toc_window_display": false
  }
 },
 "nbformat": 4,
 "nbformat_minor": 5
}
