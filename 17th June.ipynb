{
 "cells": [
  {
   "cell_type": "markdown",
   "id": "developing-sterling",
   "metadata": {},
   "source": [
    "<b>Number 1 - \n",
    "- Question -\n",
    "> What is the role of try and exception block?\n",
    "\n",
    "- Answer - <b>try block:<b> \n",
    ">The code within the try block contains the statements that may potentially raise an exception. It allows you to specify the section of code that you want to monitor for exceptions.\n",
    "\n",
    "- <b>except block: \n",
    ">If an exception occurs within the try block, the corresponding except block(s) are executed. The except block allows you to define the actions or code that should be executed when a specific exception is raised. You can have multiple except blocks to handle different types of exceptions.\n",
    "> "
   ]
  },
  {
   "cell_type": "markdown",
   "id": "67ad5069",
   "metadata": {},
   "source": [
    "<b>-----------------------------------------------------------------------------------------------------------------------------------------------------------------------------------------------"
   ]
  },
  {
   "cell_type": "markdown",
   "id": "signal-combine",
   "metadata": {},
   "source": [
    "<b>Number 2 - \n",
    "- Question -\n",
    "> What is the syntax for a basic try-except block?\n",
    "\n",
    "- Answer - Syntax for basic try and basic:"
   ]
  },
  {
   "cell_type": "markdown",
   "id": "0665c3ab",
   "metadata": {},
   "source": [
    "try:\n",
    "    # Code that might raise an exception\n",
    "    # ...\n",
    "except:\n",
    "    # Code to handle any other exceptions\n",
    "    # ...\n"
   ]
  },
  {
   "cell_type": "code",
   "execution_count": 1,
   "id": "28fc13d2",
   "metadata": {},
   "outputs": [
    {
     "name": "stdout",
     "output_type": "stream",
     "text": [
      "some issue with the x\n"
     ]
    }
   ],
   "source": [
    "# example:\n",
    "try:\n",
    "    print(x)\n",
    "except:\n",
    "    print(\"some issue with the x\")"
   ]
  },
  {
   "cell_type": "markdown",
   "id": "99145f78",
   "metadata": {},
   "source": [
    "<b>-----------------------------------------------------------------------------------------------------------------------------------------------------------------------------------------------"
   ]
  },
  {
   "cell_type": "markdown",
   "id": "urban-category",
   "metadata": {},
   "source": [
    "<b>Number 3 - \n",
    "- Question -\n",
    ">What happens if an exception occurs inside a try block and there is no matching\n",
    "except block?\n",
    "\n",
    "- Answer -If the exception is not caught anywhere in the program, it will result in an error message being displayed, along with a traceback that shows the sequence of function calls that led to the unhandled exception. The program will terminate at that point, and any remaining code after the try statement will not be executed.\n",
    "> "
   ]
  },
  {
   "cell_type": "code",
   "execution_count": 9,
   "id": "a4547e7a",
   "metadata": {},
   "outputs": [
    {
     "ename": "ZeroDivisionError",
     "evalue": "division by zero",
     "output_type": "error",
     "traceback": [
      "\u001b[1;31m---------------------------------------------------------------------------\u001b[0m",
      "\u001b[1;31mZeroDivisionError\u001b[0m                         Traceback (most recent call last)",
      "Cell \u001b[1;32mIn[9], line 3\u001b[0m\n\u001b[0;32m      1\u001b[0m \u001b[38;5;28;01mtry\u001b[39;00m:\n\u001b[0;32m      2\u001b[0m     \u001b[38;5;66;03m# Code that might raise an exception\u001b[39;00m\n\u001b[1;32m----> 3\u001b[0m     result \u001b[38;5;241m=\u001b[39m \u001b[38;5;241;43m10\u001b[39;49m\u001b[43m \u001b[49m\u001b[38;5;241;43m/\u001b[39;49m\u001b[43m \u001b[49m\u001b[38;5;241;43m0\u001b[39;49m\n\u001b[0;32m      4\u001b[0m \u001b[38;5;28;01mexcept\u001b[39;00m \u001b[38;5;167;01mValueError\u001b[39;00m:\n\u001b[0;32m      5\u001b[0m     \u001b[38;5;66;03m# Code to handle a ValueError (does not match the raised exception)\u001b[39;00m\n\u001b[0;32m      6\u001b[0m     \u001b[38;5;28mprint\u001b[39m(\u001b[38;5;124m\"\u001b[39m\u001b[38;5;124mValueError occurred\u001b[39m\u001b[38;5;124m\"\u001b[39m)\n",
      "\u001b[1;31mZeroDivisionError\u001b[0m: division by zero"
     ]
    }
   ],
   "source": [
    "try:\n",
    "    # Code that might raise an exception\n",
    "    result = 10 / 0\n",
    "except ValueError:\n",
    "    # Code to handle a ValueError (does not match the raised exception)\n",
    "    print(\"ValueError occurred\")"
   ]
  },
  {
   "cell_type": "markdown",
   "id": "bf824ff0",
   "metadata": {},
   "source": [
    "In this example, a ZeroDivisionError will occur because we're attempting to divide a number by zero. However, the except block specifies ValueError as the exception type to handle. Since ZeroDivisionError is not a subclass of ValueError, the exception will not be caught by this except block. As a result, the exception will propagate up the call stack, potentially being caught by an enclosing try-except block or causing the program to terminate if no appropriate handler is found."
   ]
  },
  {
   "cell_type": "markdown",
   "id": "e1626b65",
   "metadata": {},
   "source": [
    "<b>-----------------------------------------------------------------------------------------------------------------------------------------------------------------------------------------------"
   ]
  },
  {
   "cell_type": "markdown",
   "id": "visible-cotton",
   "metadata": {},
   "source": [
    "<b>Number 4\n",
    "    - \n",
    "- Question -\n",
    "> What is the difference between using a bare except block and specifying a specific\n",
    "exception type?\n",
    "\n",
    "- Answer - The difference between using a bare except block and specifying a specific exception type lies in the level of control and precision in handling exceptions.\n",
    ">When you use a specific exception type in an except block, you can precisely catch and handle only that particular type of exception. This allows you to provide specialized handling for different types of exceptions. For example:"
   ]
  },
  {
   "cell_type": "code",
   "execution_count": 10,
   "id": "4e1d5eb5",
   "metadata": {},
   "outputs": [
    {
     "name": "stdout",
     "output_type": "stream",
     "text": [
      "Invalid integer value entered\n"
     ]
    }
   ],
   "source": [
    "try:\n",
    "    # Code that might raise an exception\n",
    "    result = int(\"not_an_integer\")\n",
    "except ValueError:\n",
    "    # Code to handle a ValueError\n",
    "    print(\"Invalid integer value entered\")\n"
   ]
  },
  {
   "cell_type": "markdown",
   "id": "3a340566",
   "metadata": {},
   "source": [
    "On the other hand, using a bare except block, without specifying any exception type, will catch and handle any type of exception, including both built-in exceptions and user-defined exceptions. While this provides a catch-all mechanism, it can make it harder to identify the specific cause of the exception and can potentially hide programming errors or unexpected exceptions. Here's an example:"
   ]
  },
  {
   "cell_type": "code",
   "execution_count": 11,
   "id": "fddbc621",
   "metadata": {},
   "outputs": [
    {
     "name": "stdout",
     "output_type": "stream",
     "text": [
      "An error occurred\n"
     ]
    }
   ],
   "source": [
    "try:\n",
    "    # Code that might raise an exception\n",
    "    result = int(\"not_an_integer\")\n",
    "except:\n",
    "    # Code to handle any exception\n",
    "    print(\"An error occurred\")\n"
   ]
  },
  {
   "cell_type": "markdown",
   "id": "fbf766dd",
   "metadata": {},
   "source": [
    "<b>-----------------------------------------------------------------------------------------------------------------------------------------------------------------------------------------------"
   ]
  },
  {
   "cell_type": "markdown",
   "id": "continued-obligation",
   "metadata": {},
   "source": [
    "<b>Number 5 - \n",
    "- Question -\n",
    "> Can you have nested try-except blocks in Python? If yes, then give an example.\n",
    "- Answer - \n",
    "\n",
    "Yes, you can have nested try-except blocks in Python. This means that you can have one try block within another try block, and each try block can have its own corresponding except block(s) to handle exceptions at different levels of the program.\n",
    "\n",
    "Here's an example of nested try-except blocks:"
   ]
  },
  {
   "cell_type": "code",
   "execution_count": 1,
   "id": "37efd458",
   "metadata": {},
   "outputs": [
    {
     "name": "stdout",
     "output_type": "stream",
     "text": [
      "Outer try block\n",
      "Inner try block\n",
      "Inner except block: Cannot divide by zero!\n",
      "Inner finally block\n",
      "Outer finally block\n"
     ]
    }
   ],
   "source": [
    "try:\n",
    "    # Outer try block\n",
    "    print(\"Outer try block\")\n",
    "    try:\n",
    "        # Inner try block\n",
    "        print(\"Inner try block\")\n",
    "        result = 10 / 0  # Raises ZeroDivisionError\n",
    "    except ZeroDivisionError:\n",
    "        # Inner except block\n",
    "        print(\"Inner except block: Cannot divide by zero!\")\n",
    "    finally:\n",
    "        # Inner finally block\n",
    "        print(\"Inner finally block\")\n",
    "\n",
    "except:\n",
    "    # Outer except block\n",
    "    print(\"Outer except block\")\n",
    "finally:\n",
    "    # Outer finally block\n",
    "    print(\"Outer finally block\")\n"
   ]
  },
  {
   "cell_type": "markdown",
   "id": "07d1d015",
   "metadata": {},
   "source": [
    "<b>-----------------------------------------------------------------------------------------------------------------------------------------------------------------------------------------------"
   ]
  },
  {
   "cell_type": "markdown",
   "id": "organized-novel",
   "metadata": {},
   "source": [
    "<b>Number 6 - \n",
    "- Question -\n",
    "> Can we use multiple exception blocks, if yes then give an example.\n",
    "- Answer - Yes, you can use multiple except blocks to handle different types of exceptions within a single try block. Each except block can specify a different exception type to handle specific exceptions.\n",
    "\n",
    "Here's an example:"
   ]
  },
  {
   "cell_type": "code",
   "execution_count": null,
   "id": "bee7fe37",
   "metadata": {},
   "outputs": [],
   "source": [
    "try:\n",
    "    # Code that might raise exceptions\n",
    "    num1 = int(input(\"Enter the numerator: \"))\n",
    "    num2 = int(input(\"Enter the denominator: \"))\n",
    "    result = num1 / num2\n",
    "    print(\"Result:\", result)\n",
    "    \n",
    "except ValueError:\n",
    "    print(\"Invalid input. Please enter valid integers.\")\n",
    "\n",
    "except ZeroDivisionError:\n",
    "    print(\"Cannot divide by zero.\")\n"
   ]
  },
  {
   "cell_type": "markdown",
   "id": "d5750997",
   "metadata": {},
   "source": [
    "<b>-----------------------------------------------------------------------------------------------------------------------------------------------------------------------------------------------"
   ]
  },
  {
   "cell_type": "markdown",
   "id": "hourly-lancaster",
   "metadata": {},
   "source": [
    "<b>Number 7 - \n",
    "- Question -\n",
    "> Write the reason due to which following errors are raised:\n",
    "    \n",
    "a. EOFError\n",
    "    \n",
    "b. FloatingPointError\n",
    "\n",
    "c. IndexError\n",
    "\n",
    "d. MemoryError\n",
    "\n",
    "e. OverflowError\n",
    "\n",
    "f. TabError\n",
    "\n",
    "g. ValueError\n",
    "    \n",
    "- Answer - "
   ]
  },
  {
   "cell_type": "markdown",
   "id": "f673aeef",
   "metadata": {},
   "source": [
    "Here are the reasons for the errors you mentioned:\n",
    "\n",
    "a. EOFError: \n",
    ">This error occurs when the end of a file or input stream is reached unexpectedly. It typically happens when a function or operation expects more data but encounters the end of the input before that.\n",
    "\n",
    "b. FloatingPointError: \n",
    ">This error is raised when a floating-point arithmetic operation fails. It usually happens in situations such as division by zero or when an operation results in an overflow or underflow of the floating-point representation.\n",
    "\n",
    "c. IndexError: \n",
    ">This error is raised when trying to access a sequence (such as a list or a string) with an invalid index. It occurs when the index is out of the range of valid indices for the sequence.\n",
    "\n",
    "d. MemoryError: \n",
    ">This error occurs when an operation fails due to insufficient memory to perform the requested action. It happens when the Python interpreter cannot allocate enough memory to store the data or execute a particular operation.\n",
    "\n",
    "e. OverflowError: \n",
    ">This error is raised when the result of an arithmetic operation exceeds the maximum representable value for a numeric type. It typically occurs with operations involving large numbers that cannot be represented within the limits of the numeric type.\n",
    "\n",
    "f. TabError: \n",
    ">This error occurs when there is an incorrect indentation or mixing of tabs and spaces in Python code. Python relies on consistent indentation using either tabs or spaces, and a TabError is raised when the indentation is inconsistent or when tabs and spaces are mixed.\n",
    "\n",
    "g. ValueError: \n",
    ">This error is raised when a function or operation receives an argument of the correct type but with an invalid value. It typically occurs when a function expects a specific range of values, and the provided argument is outside that range or doesn't meet certain criteria.\n",
    "\n",
    "These errors provide valuable information about what went wrong during the execution of a program, helping developers identify and fix issues in their code."
   ]
  },
  {
   "cell_type": "markdown",
   "id": "c7c9ac20",
   "metadata": {},
   "source": [
    "<b>-----------------------------------------------------------------------------------------------------------------------------------------------------------------------------------------------"
   ]
  },
  {
   "cell_type": "markdown",
   "id": "polyphonic-cartridge",
   "metadata": {},
   "source": [
    "<b>Number 8 - \n",
    "- Question -\n",
    "> Write code for the following given scenario and add try-exception block to it.\n",
    "    \n",
    "a. Program to divide two numbers\n",
    "\n",
    "b. Program to convert a string to an integer\n",
    "\n",
    "c. Program to access an element in a list\n",
    "\n",
    "d. Program to handle a specific exception\n",
    "\n",
    "e. Program to handle any exception\n",
    "    \n",
    "- Answer   "
   ]
  },
  {
   "cell_type": "code",
   "execution_count": null,
   "id": "3b097e52",
   "metadata": {},
   "outputs": [],
   "source": [
    "# a. Program to divide two numbers\n",
    "try:\n",
    "    num1 = float(input(\"Enter the numerator: \"))\n",
    "    num2 = float(input(\"Enter the denominator: \"))\n",
    "    result = num1 / num2\n",
    "    print(\"Result:\", result)\n",
    "\n",
    "except ZeroDivisionError:\n",
    "    print(\"Cannot divide by zero.\")\n"
   ]
  },
  {
   "cell_type": "code",
   "execution_count": 5,
   "id": "635d36cc",
   "metadata": {},
   "outputs": [],
   "source": [
    "# b. Program to convert a string to an integer\n",
    "try:\n",
    "    num1 = float(input(\"Enter the numerator: \"))\n",
    "    num2 = float(input(\"Enter the denominator: \"))\n",
    "    result = num1 / num2\n",
    "    print(\"Result:\", result)\n",
    "    \n",
    "except ZeroDivisionError:\n",
    "    print(\"Cannot divide by zero.\")\n"
   ]
  },
  {
   "cell_type": "code",
   "execution_count": null,
   "id": "904083cd",
   "metadata": {},
   "outputs": [],
   "source": [
    "# c. Program to access an element in a list\n",
    "try:\n",
    "    my_list = [1, 2, 3, 4, 5]\n",
    "    index = int(input(\"Enter an index: \"))\n",
    "    element = my_list[index]\n",
    "    print(\"Element:\", element)\n",
    "except IndexError:\n",
    "    print(\"Invalid index. Please enter a valid index within the range of the list.\")\n"
   ]
  },
  {
   "cell_type": "code",
   "execution_count": null,
   "id": "b39a6d15",
   "metadata": {},
   "outputs": [],
   "source": [
    "# d. Program to handle a specific exception\n",
    "try:\n",
    "    file = open(\"nonexistent_file.txt\", \"r\")\n",
    "    content = file.read()\n",
    "    file.close()\n",
    "    print(\"File content:\", content)\n",
    "except FileNotFoundError:\n",
    "    print(\"The file does not exist.\")\n"
   ]
  },
  {
   "cell_type": "code",
   "execution_count": null,
   "id": "09281e9a",
   "metadata": {},
   "outputs": [],
   "source": [
    "# e. Program to handle any exception\n",
    "try:\n",
    "    # Code that may raise exceptions\n",
    "    x = 10 / 0\n",
    "    print(\"Result:\", x)\n",
    "except Exception as e:\n",
    "    print(\"An error occurred:\", str(e))"
   ]
  },
  {
   "cell_type": "markdown",
   "id": "9a1e90c0",
   "metadata": {},
   "source": [
    "In the last example, the except Exception as e block catches any type of exception and assigns it to the variable e. The str(e) converts the exception object to a string to display the error message. Using Exception as the exception type in the except block allows you to handle any type of exception that occurs within the try block."
   ]
  },
  {
   "cell_type": "markdown",
   "id": "9553cf03",
   "metadata": {},
   "source": [
    "<b>-----------------------------------------------------------------------------------------------------------------------------------------------------------------------------------------------"
   ]
  }
 ],
 "metadata": {
  "kernelspec": {
   "display_name": "Python 3 (ipykernel)",
   "language": "python",
   "name": "python3"
  },
  "language_info": {
   "codemirror_mode": {
    "name": "ipython",
    "version": 3
   },
   "file_extension": ".py",
   "mimetype": "text/x-python",
   "name": "python",
   "nbconvert_exporter": "python",
   "pygments_lexer": "ipython3",
   "version": "3.11.4"
  },
  "toc": {
   "base_numbering": 1,
   "nav_menu": {},
   "number_sections": true,
   "sideBar": true,
   "skip_h1_title": false,
   "title_cell": "Table of Contents",
   "title_sidebar": "Contents",
   "toc_cell": false,
   "toc_position": {},
   "toc_section_display": true,
   "toc_window_display": false
  }
 },
 "nbformat": 4,
 "nbformat_minor": 5
}
