{
 "cells": [
  {
   "cell_type": "markdown",
   "id": "3c85f701",
   "metadata": {},
   "source": [
    "# Assignment 6"
   ]
  },
  {
   "cell_type": "markdown",
   "id": "1826892e",
   "metadata": {},
   "source": [
    "<b>Number 1 - \n",
    "- Question -\n",
    "> What are keywords in python?  Using the keyword library, print all the python keywords.\n",
    "\n",
    "- Answer -\n",
    "> In Python, keywords are reserved words that have special meanings and purposes within the language. These keywords cannot be used as variable names or identifiers because they are already predefined and have specific roles in the syntax and structure of Python programs."
   ]
  },
  {
   "cell_type": "code",
   "execution_count": 1,
   "id": "cc18a9b9",
   "metadata": {},
   "outputs": [
    {
     "name": "stdout",
     "output_type": "stream",
     "text": [
      "['False', 'None', 'True', '__peg_parser__', 'and', 'as', 'assert', 'async', 'await', 'break', 'class', 'continue', 'def', 'del', 'elif', 'else', 'except', 'finally', 'for', 'from', 'global', 'if', 'import', 'in', 'is', 'lambda', 'nonlocal', 'not', 'or', 'pass', 'raise', 'return', 'try', 'while', 'with', 'yield']\n"
     ]
    }
   ],
   "source": [
    "import keyword\n",
    "\n",
    "print(keyword.kwlist)"
   ]
  },
  {
   "cell_type": "markdown",
   "id": "signal-combine",
   "metadata": {},
   "source": [
    "<b>Number 2 - \n",
    "- Question -\n",
    "> What are the rules to create variables in python?\n",
    "\n",
    "- Answer -\n",
    "> Rules for Python variables:\n",
    ">1. A variable name must start with a letter or the underscore character\n",
    ">2. A variable name cannot start with a number\n",
    ">3. A variable name can only contain alpha-numeric characters and underscores (A-z, 0-9, and _ )\n",
    "    \n",
    ">4.Variable names are case-sensitive (age, Age and AGE are three different variables)\n",
    "\n",
    "\n",
    "    "
   ]
  },
  {
   "cell_type": "markdown",
   "id": "urban-category",
   "metadata": {},
   "source": [
    "<b>Number 3 - \n",
    "- Question -\n",
    ">  What are the standards and conventions followed for the nomenclature of variables in\n",
    "python to improve code readability and maintainability?\n",
    "\n",
    "- Answer -\n",
    "> In Python, there are several standards and conventions that are commonly followed to improve code readability and maintainability. These conventions are often referred to as \"Pythonic\" style. Here are some key guidelines:\n",
    "\n",
    "    \n",
    ">1. Use descriptive and meaningful names: Choose variable names that accurately describe the purpose or content of the variable. This makes it easier for others (including your future self) to understand the code. Avoid using single-letter or cryptic names that may not convey the purpose of the variable.\n",
    "\n",
    ">2. Follow snake_case for variable names: Use lowercase letters and underscores to separate words in variable names. This convention, known as snake_case, enhances readability. For example: total_amount, customer_name, is_valid.\n",
    "\n",
    ">3. Avoid using single underscores at the beginning and end: Leading and trailing underscores (_) have special meanings in Python, so it's best to avoid using them in variable names unless they serve a specific purpose.\n",
    "\n",
    ">4. Constants in uppercase: If you have variables that represent constants or values that should not be changed, it is common practice to use all uppercase letters with underscores to separate words. For example: MAX_VALUE, DEFAULT_TIMEOUT.\n",
    "\n",
    ">5. Use lowercase for built-in functions and modules: Python's built-in functions and modules are typically written in lowercase. It's best to avoid using these names for your variables to prevent confusion. Examples of built-in functions are print(), len(), and sum().\n",
    "\n",
    ">6. Be consistent and follow conventions: Consistency is crucial in maintaining readable code. Stick to a naming convention throughout your codebase. If you're working on an existing project, follow the existing naming conventions to maintain consistency.\n",
    "\n",
    ">7. Use meaningful variable names for loops and iterators: When using loops, choose meaningful variable names for the loop variable. For example: for item in items, for i in range(len(my_list)). This helps in understanding the purpose of the loop and the role of the variable.\n",
    "\n",
    ">8. Consider the scope of variables: Use variable names that reflect their scope. For example, prefixing a variable name with \"global_\" can indicate that it is a global variable, and using \"temp_\" or \"local_\" can suggest that it is a temporary or local variable.\n",
    "\n",
    "    \n",
    "These conventions are not strict rules enforced by the Python language, but they are widely followed by the Python community to make code more readable and maintainable. Adhering to these standards can improve code quality and make it easier for others to collaborate on your code.\n",
    "\n",
    "\n",
    "\n",
    "\n",
    "\n",
    "\n",
    "\n",
    "    "
   ]
  },
  {
   "cell_type": "markdown",
   "id": "visible-cotton",
   "metadata": {},
   "source": [
    "<b>Number 4\n",
    "    - \n",
    "- Question -\n",
    "> What will happen if a keyword is used as a variable name?\n",
    "\n",
    "\n",
    "- Answer -\n",
    "> If you use a keyword as a variable name in Python, it will result in a syntax error. Keywords are reserved and have predefined meanings within the language, so you cannot use them as variable names, function names, or any other identifiers.\n",
    "\n",
    "    \n",
    ">When you attempt to use a keyword as a variable name, Python will raise a \"SyntaxError: invalid syntax\" or a similar error message. This error occurs because the Python interpreter recognizes the keyword and expects it to be used for its specific purpose rather than as a variable.\n",
    "\n",
    "Here's an example that demonstrates the error when using a keyword as a variable name:\n",
    "    "
   ]
  },
  {
   "cell_type": "code",
   "execution_count": 2,
   "id": "2f45a456",
   "metadata": {},
   "outputs": [
    {
     "ename": "SyntaxError",
     "evalue": "invalid syntax (408588815.py, line 1)",
     "output_type": "error",
     "traceback": [
      "\u001b[1;36m  Cell \u001b[1;32mIn[2], line 1\u001b[1;36m\u001b[0m\n\u001b[1;33m    for x = 5\u001b[0m\n\u001b[1;37m          ^\u001b[0m\n\u001b[1;31mSyntaxError\u001b[0m\u001b[1;31m:\u001b[0m invalid syntax\n"
     ]
    }
   ],
   "source": [
    "for x = 5"
   ]
  },
  {
   "cell_type": "markdown",
   "id": "continued-obligation",
   "metadata": {},
   "source": [
    "<b>Number 5 - \n",
    "- Question -\n",
    ">  For what purpose def keyword is used?\n",
    "- Answer -\n",
    "> The def keyword in Python is used to define and create functions. Functions are blocks of reusable code that perform a specific task or group a set of operations together. The def keyword is the starting point for defining a function in Python.\n",
    "\n",
    "When you use the def keyword, you are declaring a function with a specified name, parameters (optional), and a block of code that is executed when the function is called.\n",
    "\n",
    "Here's a basic example of a function defined using the def keyword:\n",
    "\n",
    "\n",
    "\n",
    "\n",
    "    \n"
   ]
  },
  {
   "cell_type": "code",
   "execution_count": 6,
   "id": "13de755a",
   "metadata": {},
   "outputs": [
    {
     "name": "stdout",
     "output_type": "stream",
     "text": [
      "Hello World!\n",
      "10\n"
     ]
    }
   ],
   "source": [
    "def greet():\n",
    "    print(\"Hello World!\")\n",
    "\n",
    "def add(a,b):\n",
    "    print(a + b)\n",
    "\n",
    "greet()\n",
    "add(4,6)"
   ]
  },
  {
   "cell_type": "markdown",
   "id": "organized-novel",
   "metadata": {},
   "source": [
    "<b>Number 6 - \n",
    "- Question -\n",
    ">  What is the operation of this special character ‘\\’?\n",
    "- Answer -\n",
    "> In Python strings, the backslash \"\\\" is a special character, also called the \"escape\" character. It is used in representing certain whitespace characters: \"\\t\" is a tab, \"\\n\" is a newline, and \"\\r\" is a carriage return. Conversely, prefixing a special character with \"\\\" turns it into an ordinary character."
   ]
  },
  {
   "cell_type": "markdown",
   "id": "hourly-lancaster",
   "metadata": {},
   "source": [
    "<b>Number 7 - \n",
    "- Question -\n",
    "Q.7. Give an example of the following conditions:\n",
    "\n",
    "(i) Homogeneous list\n",
    "    \n",
    "(ii) Heterogeneous set\n",
    "\n",
    "(iii) Homogeneous tuple\n",
    "\n",
    "- Answer -"
   ]
  },
  {
   "cell_type": "code",
   "execution_count": null,
   "id": "22cdd6de",
   "metadata": {},
   "outputs": [],
   "source": [
    "# Homogeneous list: A homogeneous list in Python contains elements of the same data type. Example\n",
    "numbers = [1, 2, 3, 4, 5]"
   ]
  },
  {
   "cell_type": "code",
   "execution_count": null,
   "id": "a2466ab4",
   "metadata": {},
   "outputs": [],
   "source": [
    "# Heterogeneous set: A heterogeneous set in Python can contain elements of different data types. Example:\n",
    "my_set = {1, \"hello\", 3.14, True}"
   ]
  },
  {
   "cell_type": "code",
   "execution_count": null,
   "id": "256b22f1",
   "metadata": {},
   "outputs": [],
   "source": [
    "# Homogeneous tuple: A homogeneous tuple in Python contains elements of the same data type. Example:\n",
    "fruits = (\"apple\", \"banana\", \"orange\", \"kiwi\")"
   ]
  },
  {
   "cell_type": "markdown",
   "id": "polyphonic-cartridge",
   "metadata": {},
   "source": [
    "<b>Number 8 - \n",
    "- Question -\n",
    "> Explain the mutable and immutable data types with proper explanation & examples\n",
    "- Answer -\n",
    "> In Python, data types can be classified as either mutable or immutable based on whether their values can be changed after they are created. The distinction between mutable and immutable types lies in how they handle modifications to their values.\n",
    "\n",
    "    \n",
    "1. Mutable data types:\n",
    "Mutable data types are those whose values can be modified after they are created. This means that you can change individual elements, add or remove elements, or modify the state of the object itself. Examples of mutable data types in Python include lists, sets, and dictionaries.\n",
    "\n",
    "Let's consider an example using a list:"
   ]
  },
  {
   "cell_type": "code",
   "execution_count": 8,
   "id": "b2839b21",
   "metadata": {},
   "outputs": [
    {
     "name": "stdout",
     "output_type": "stream",
     "text": [
      "[1, 2, 3]\n",
      "[4, 2, 3]\n"
     ]
    }
   ],
   "source": [
    "my_list = [1, 2, 3]\n",
    "print(my_list)\n",
    "my_list[0] = 4\n",
    "print(my_list)"
   ]
  },
  {
   "cell_type": "markdown",
   "id": "0f059dba",
   "metadata": {},
   "source": [
    "2. Immutable data types:\n",
    "Immutable data types, on the other hand, are those whose values cannot be modified after they are created. This means that you cannot change individual elements, add or remove elements, or modify the state of the object itself. Examples of immutable data types in Python include strings, numbers (integers, floats), and tuples.\n",
    "\n",
    "Let's consider an example using a string:"
   ]
  },
  {
   "cell_type": "code",
   "execution_count": 10,
   "id": "099cff7f",
   "metadata": {
    "scrolled": false
   },
   "outputs": [
    {
     "ename": "TypeError",
     "evalue": "'str' object does not support item assignment",
     "output_type": "error",
     "traceback": [
      "\u001b[1;31m---------------------------------------------------------------------------\u001b[0m",
      "\u001b[1;31mTypeError\u001b[0m                                 Traceback (most recent call last)",
      "Cell \u001b[1;32mIn[10], line 2\u001b[0m\n\u001b[0;32m      1\u001b[0m my_string \u001b[38;5;241m=\u001b[39m \u001b[38;5;124m\"\u001b[39m\u001b[38;5;124mHello\u001b[39m\u001b[38;5;124m\"\u001b[39m\n\u001b[1;32m----> 2\u001b[0m \u001b[43mmy_string\u001b[49m\u001b[43m[\u001b[49m\u001b[38;5;241;43m0\u001b[39;49m\u001b[43m]\u001b[49m \u001b[38;5;241m=\u001b[39m \u001b[38;5;124m\"\u001b[39m\u001b[38;5;124mJ\u001b[39m\u001b[38;5;124m\"\u001b[39m\n",
      "\u001b[1;31mTypeError\u001b[0m: 'str' object does not support item assignment"
     ]
    }
   ],
   "source": [
    "my_string = \"Hello\"\n",
    "my_string[0] = \"J\"\n"
   ]
  },
  {
   "cell_type": "code",
   "execution_count": 14,
   "id": "2d7620ae",
   "metadata": {},
   "outputs": [
    {
     "name": "stdout",
     "output_type": "stream",
     "text": [
      "World\n"
     ]
    }
   ],
   "source": [
    "my_string = \"Hello\"\n",
    "my_string = \"World\"\n",
    "print(my_string)\n",
    "\n",
    "# In this case, the variable my_string is reassigned to a new string value, \"World\". This does not modify the original string\n",
    "# object; it creates a new string object and assigns it to the variable.\n"
   ]
  },
  {
   "cell_type": "markdown",
   "id": "spiritual-sister",
   "metadata": {},
   "source": [
    "<b>Number 9 - \n",
    "- Question -\n",
    "> Write a code to create the given structure using only for loop.\n",
    "   \n",
    "- Answer "
   ]
  },
  {
   "cell_type": "code",
   "execution_count": 30,
   "id": "87416983",
   "metadata": {},
   "outputs": [],
   "source": [
    "#     * \n",
    "#    ***\n",
    "#   *****\n",
    "#  *******\n",
    "# *********"
   ]
  },
  {
   "cell_type": "code",
   "execution_count": 2,
   "id": "408e6b9d",
   "metadata": {},
   "outputs": [
    {
     "name": "stdout",
     "output_type": "stream",
     "text": [
      "    *\n",
      "   ***\n",
      "  *****\n",
      " *******\n",
      "*********\n"
     ]
    }
   ],
   "source": [
    "# using for loop\n",
    "\n",
    "n = 5\n",
    "\n",
    "for i in range(1, n+1):\n",
    "    for space in range(n-i):\n",
    "        print(\" \" , end = \"\") \n",
    "        \n",
    "    for j in range(1, i+1):\n",
    "        print(\"*\", end = \"\")\n",
    "    \n",
    "    for start in range(i-1, 0, -1):\n",
    "        print(\"*\", end = \"\")\n",
    "    \n",
    "    print()\n",
    "    "
   ]
  },
  {
   "cell_type": "code",
   "execution_count": 24,
   "id": "6492bc3f",
   "metadata": {},
   "outputs": [
    {
     "name": "stdout",
     "output_type": "stream",
     "text": [
      "    *\n",
      "   ***\n",
      "  *****\n",
      " *******\n",
      "*********\n"
     ]
    }
   ],
   "source": [
    "# using while loop\n",
    "\n",
    "n = 5\n",
    "row = 1\n",
    "\n",
    "while(row <=n):\n",
    "    space = 5 - row\n",
    "    \n",
    "    while(space):\n",
    "        print(\" \", end = \"\")\n",
    "        space = space - 1\n",
    "    \n",
    "    j = 1\n",
    "    while(j<=row):\n",
    "        print(\"*\", end = \"\")\n",
    "        j = j + 1\n",
    "        \n",
    "    start = row - 1\n",
    "    while(start):\n",
    "        print(\"*\", end = \"\")\n",
    "        start = start - 1\n",
    "        \n",
    "    row = row + 1\n",
    "        \n",
    "    print()\n"
   ]
  },
  {
   "cell_type": "markdown",
   "id": "monetary-approach",
   "metadata": {},
   "source": [
    "<b>Number 11- \n",
    "- Question -\n",
    "> Write a code to create the given structure using while loop."
   ]
  },
  {
   "cell_type": "code",
   "execution_count": null,
   "id": "8dadef81",
   "metadata": {},
   "outputs": [],
   "source": [
    "|||||||||\n",
    " |||||||\n",
    "  |||||\n",
    "   |||\n",
    "    |"
   ]
  },
  {
   "cell_type": "markdown",
   "id": "67e82307",
   "metadata": {},
   "source": [
    "- Answer-"
   ]
  },
  {
   "cell_type": "code",
   "execution_count": 3,
   "id": "71fabff6",
   "metadata": {},
   "outputs": [
    {
     "name": "stdout",
     "output_type": "stream",
     "text": [
      "|||||||||\n",
      " |||||||\n",
      "  |||||\n",
      "   |||\n",
      "    |\n"
     ]
    }
   ],
   "source": [
    "# using while loop\n",
    "\n",
    "n = 5\n",
    "\n",
    "i = n\n",
    "while i >= 1:\n",
    "    j = 1\n",
    "    while j <= n - i:\n",
    "        print(\" \", end=\"\")\n",
    "        j += 1\n",
    "    \n",
    "    j = 1\n",
    "    while j <= 2 * i - 1:\n",
    "        print(\"|\", end=\"\")\n",
    "        j += 1\n",
    "    \n",
    "    print()\n",
    "    i -= 1\n"
   ]
  },
  {
   "cell_type": "code",
   "execution_count": 5,
   "id": "5c4ea384",
   "metadata": {},
   "outputs": [
    {
     "name": "stdout",
     "output_type": "stream",
     "text": [
      "|||||||||\n",
      " |||||||\n",
      "  |||||\n",
      "   |||\n",
      "    |\n"
     ]
    }
   ],
   "source": [
    "# using for loop\n",
    "\n",
    "n = 5\n",
    "\n",
    "for i in range(n, 0, -1):\n",
    "    for j in range(1, n - i + 1):\n",
    "        print(\" \", end=\"\")\n",
    "    \n",
    "    for j in range(1, 2 * i):\n",
    "        print(\"|\", end=\"\")\n",
    "    \n",
    "    print()"
   ]
  },
  {
   "cell_type": "code",
   "execution_count": null,
   "id": "c348a49b",
   "metadata": {},
   "outputs": [],
   "source": []
  }
 ],
 "metadata": {
  "kernelspec": {
   "display_name": "Python 3 (ipykernel)",
   "language": "python",
   "name": "python3"
  },
  "language_info": {
   "codemirror_mode": {
    "name": "ipython",
    "version": 3
   },
   "file_extension": ".py",
   "mimetype": "text/x-python",
   "name": "python",
   "nbconvert_exporter": "python",
   "pygments_lexer": "ipython3",
   "version": "3.9.6"
  },
  "toc": {
   "base_numbering": 1,
   "nav_menu": {},
   "number_sections": true,
   "sideBar": true,
   "skip_h1_title": false,
   "title_cell": "Table of Contents",
   "title_sidebar": "Contents",
   "toc_cell": false,
   "toc_position": {},
   "toc_section_display": true,
   "toc_window_display": false
  }
 },
 "nbformat": 4,
 "nbformat_minor": 5
}
