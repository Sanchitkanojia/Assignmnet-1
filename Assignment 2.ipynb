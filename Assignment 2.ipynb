{
 "cells": [
  {
   "cell_type": "markdown",
   "id": "ccfd2c5a",
   "metadata": {},
   "source": [
    "# Assignment 2\n",
    "\n",
    "Q1.What are the two values of the Boolean data type? How do you write them?\n",
    "\n",
    "Ans. The Boolean data type represents a logical value that can have one of two possible states: \"true\" or \"false\". These values are used to express the truth or falsehood of a statement or condition in programming. In different programming languages, these values may be represented in different ways:\n",
    "\n",
    "1. True: This represents the value for a true or affirmative condition. It is often represented by the keyword \"true\" in many programming languages, such as Python, JavaScript, and Java. In some languages, it can also be represented by the integer value 1.\n",
    "\n",
    "2. False: This represents the value for a false or negative condition. It is often represented by the keyword \"false\" in many programming languages, such as Python, JavaScript, and Java. In some languages, it can also be represented by the integer value 0.\n",
    "\n",
    "In python, we can write as:"
   ]
  },
  {
   "cell_type": "code",
   "execution_count": 1,
   "id": "9a0833dc",
   "metadata": {},
   "outputs": [],
   "source": [
    "x = True \n",
    "y = False"
   ]
  },
  {
   "cell_type": "markdown",
   "id": "3177fe93",
   "metadata": {},
   "source": [
    "Q2. What are the three different types of Boolean operators?\n",
    "\n",
    "Ans.The three different types of Boolean operators are:\n",
    "\n",
    "1. AND operator (&&): The AND operator returns \"true\" if both operands or conditions are true. Otherwise, it returns \"false\". It can be represented using the \"&&\" symbol in most programming languages.\n",
    "\n",
    "2. OR operator (||): The OR operator returns \"true\" if at least one of the operands or conditions is true. It returns \"false\" if both operands are false. It can be represented using the \"||\" symbol in most programming languages.\n",
    "\n",
    "3. NOT operator (!): The NOT operator (also known as the negation operator) is a unary operator that reverses the logical state of its operand. If a condition is true, the NOT operator makes it false, and vice versa. It can be represented using the \"!\" symbol in most programming languages.\n",
    "\n",
    "These Boolean operators are commonly used in conditional statements, logical expressions, and boolean algebra to evaluate and manipulate logical conditions.\n",
    "\n",
    "Q3. Make a list of each Boolean operator's truth tables (i.e. every possible combination of Boolean\n",
    "values for the operator and what it evaluate ).\n",
    "\n",
    "Ans. Here are the truth tables for each Boolean operator:\n",
    "\n",
    "1. AND Operator (&&):\n",
    "\n",
    "\n",
    "if operand 1 is true and operand 2 is also true, then the result is true.\n",
    "\n",
    "if operand 1 is true and operand 2 is false, then the result is false.\n",
    "\n",
    "if operand 1 is false and operand 2 are true, then the result is false.\n",
    "\n",
    "if operand 1 is false and operand 2 is also false, then the result false \n",
    "\n",
    "\n",
    "2. OR Operator (||):\n",
    "\n",
    "\n",
    "if operand 1 is true and operand 2 is also true, then the result is true.\n",
    "\n",
    "if operand 1 is true and operand 2 is false, then the result is true.\n",
    "\n",
    "if operand 1 is false and operand 2 are true, then the result is true.\n",
    "\n",
    "if operand 1 is false and operand 2 is also false, then the result false\n",
    "\n",
    "\n",
    "3. NOT Operator (!):\n",
    "\n",
    "\n",
    "if operand is true, then the result is false.\n",
    "\n",
    "if operand is false, then the result is true.\n",
    "\n",
    "\n",
    "Q4. What are the values of the following expressions?\n",
    "\n",
    "(5 > 4) and (3 == 5)\n",
    "\n",
    "not (5 > 4)\n",
    "\n",
    "(5 > 4) or (3 == 5)\n",
    "\n",
    "not ((5 > 4) or (3 == 5))\n",
    "\n",
    "(True and True) and (True == False)\n",
    "\n",
    "(not False) or (not True)\n",
    "\n",
    "Ans. Let's evaluate the given expressions:\n",
    "\n",
    "the values of the given expressions are as follows:\n",
    "\n",
    "1. (5 > 4) and (3 == 5) evaluates to False.\n",
    "\n",
    "2. not (5 > 4) evaluates to False.\n",
    "\n",
    "3. (5 > 4) or (3 == 5) evaluates to True.\n",
    "\n",
    "4. not ((5 > 4) or (3 == 5)) evaluates to False.\n",
    "\n",
    "5. (True and True) and (True == False) evaluates to False.\n",
    "\n",
    "6. (not False) or (not True) evaluates to True.\n",
    "\n",
    "\n",
    "Q5. What are the six comparison operators?\n",
    "\n",
    "Ans. The six comparison operators are:\n",
    "\n",
    "1. Equal to (==): This operator checks if two operands are equal and returns \"true\" if they are, and \"false\" otherwise.\n",
    "\n",
    "2. Not equal to (!=): This operator checks if two operands are not equal and returns \"true\" if they are not equal, and \"false\" otherwise.\n",
    "\n",
    "3. Greater than (>): This operator checks if the left operand is greater than the right operand and returns \"true\" if it is, and \"false\" otherwise.\n",
    "\n",
    "4. Less than (<): This operator checks if the left operand is less than the right operand and returns \"true\" if it is, and \"false\" otherwise.\n",
    "\n",
    "5. Greater than or equal to (>=): This operator checks if the left operand is greater than or equal to the right operand and returns \"true\" if it is, and \"false\" otherwise.\n",
    "\n",
    "6. Less than or equal to (<=): This operator checks if the left operand is less than or equal to the right operand and returns \"true\" if it is, and \"false\" otherwise.\n",
    "\n",
    "These comparison operators are commonly used to compare values and conditions in programming languages to determine their relationship and evaluate logical expressions.\n",
    "\n",
    "6. How do you tell the difference between the equal to and assignment operators? Describe a\n",
    "condition and when you would use one.\n",
    "\n",
    "Ans. The equal to operator (==) and the assignment operator (=) serve different purposes and are used in different contexts. Here's how you can differentiate between them:\n",
    "\n",
    "1. Equal to Operator (==):\n",
    "\n",
    "    The equal to operator (==) is a comparison operator used to check if two values are equal.\n",
    "    \n",
    "    It returns true if the values on both sides of the operator are equal, and false otherwise.\n",
    "    \n",
    "    It is used in conditional statements, comparisons, and logical expressions.\n",
    "    \n",
    "    Example: if (x == 5) checks if the value of variable x is equal to 5.\n",
    "\n",
    "\n",
    "2. Assignment Operator (=):\n",
    "\n",
    "    The assignment operator (=) is used to assign a value to a variable.\n",
    "    \n",
    "    It takes the value on the right-hand side and assigns it to the variable on the left-hand side.\n",
    "    \n",
    "    It does not perform any comparison or evaluation, but simply assigns the value.\n",
    "    \n",
    "    Example: x = 5 assigns the value 5 to the variable x.\n",
    "    \n",
    "    \n",
    "    To illustrate their difference, consider the following condition and its appropriate usage:\n",
    "\n",
    "Condition: Check if a variable num is equal to 10.\n",
    "\n",
    "To check if num is equal to 10, you would use the equal to operator (==):"
   ]
  },
  {
   "cell_type": "code",
   "execution_count": 3,
   "id": "37e77b34",
   "metadata": {},
   "outputs": [],
   "source": [
    "if num == 10:\n",
    "    print(\"num is equal to 10\")\n",
    "# In this example, the equal to operator is used to compare the value of num with 10.\n",
    "# If the comparison evaluates to true, the message \"num is equal to 10\" will be printed."
   ]
  },
  {
   "cell_type": "markdown",
   "id": "ed48aab1",
   "metadata": {},
   "source": [
    "On the other hand, if you wanted to assign the value 10 to the variable num, you would use the assignment operator (=):"
   ]
  },
  {
   "cell_type": "code",
   "execution_count": null,
   "id": "eeaf897e",
   "metadata": {},
   "outputs": [],
   "source": [
    "num = 10\n",
    "# In this case, the assignment operator is used to assign the value 10 to the variable num."
   ]
  },
  {
   "cell_type": "markdown",
   "id": "476edddd",
   "metadata": {},
   "source": [
    "It's important to note that mistaking the equal to operator (==) with the assignment operator (=) can lead to logical errors in your code, so it's crucial to use the appropriate operator based on your desired operation."
   ]
  },
  {
   "cell_type": "markdown",
   "id": "edba8795",
   "metadata": {},
   "source": [
    "Q7. Identify the three blocks in this code:\n",
    "\n",
    "spam = 0\n",
    "\n",
    "if spam == 10:\n",
    "\n",
    "print('eggs')\n",
    "\n",
    "if spam > 5:\n",
    "\n",
    "print('bacon')\n",
    "\n",
    "else:\n",
    "\n",
    "print('ham')\n",
    "\n",
    "print('spam')\n",
    "\n",
    "print('spam')\n"
   ]
  },
  {
   "cell_type": "markdown",
   "id": "6291d443",
   "metadata": {},
   "source": [
    "Ans. The code provided is missing proper indentation, which is essential for identifying blocks in Python. Assuming correct indentation, the three blocks can be identified as follows:"
   ]
  },
  {
   "cell_type": "code",
   "execution_count": null,
   "id": "c1f2ee3a",
   "metadata": {},
   "outputs": [],
   "source": [
    "# Block 1:\n",
    "spam = 0\n",
    "if spam == 10:\n",
    "    print('eggs')\n",
    "    \n",
    "# This block initializes the variable spam with the value 0. It then checks if spam is equal to 10. If the condition\n",
    "# is true, it prints 'eggs'. However, since spam is 0, the condition is false, and the 'eggs' statement is not executed.\n"
   ]
  },
  {
   "cell_type": "code",
   "execution_count": null,
   "id": "bc056bb2",
   "metadata": {},
   "outputs": [],
   "source": [
    "# Block 2:\n",
    "if spam > 5:\n",
    "    print('bacon')\n",
    "else:\n",
    "    print('ham')\n",
    "\n",
    "\n",
    " # This block checks if spam is greater than 5. If the condition is true, it prints 'bacon'. Otherwise, \n",
    " # it executes the else block and prints 'ham'. Since spam is 0 (not greater than 5), the else block is executed,\n",
    " # and 'ham' is printed.\n"
   ]
  },
  {
   "cell_type": "code",
   "execution_count": 11,
   "id": "5848b00a",
   "metadata": {},
   "outputs": [
    {
     "name": "stdout",
     "output_type": "stream",
     "text": [
      "spam\n",
      "spam\n"
     ]
    }
   ],
   "source": [
    "# Block 3:\n",
    "print('spam')\n",
    "print('spam')\n",
    "\n",
    "# This block consists of two consecutive print statements. It simply prints 'spam' twice, regardless of any conditions.\n"
   ]
  },
  {
   "cell_type": "markdown",
   "id": "05cd9dcb",
   "metadata": {},
   "source": [
    "It's important to ensure proper indentation in Python code to accurately define blocks and control the flow of execution."
   ]
  },
  {
   "cell_type": "markdown",
   "id": "fdd4cfb5",
   "metadata": {},
   "source": [
    "Q8. Write code that prints Hello if 1 is stored in spam, prints Howdy if 2 is stored in spam, and prints\n",
    "Greetings! if anything else is stored in spam.\n",
    "\n",
    "Ans. "
   ]
  },
  {
   "cell_type": "code",
   "execution_count": null,
   "id": "a8cf77c9",
   "metadata": {},
   "outputs": [],
   "source": [
    "spam = int(input(\"Enter a value for spam: \"))  # Assuming user input for spam\n",
    "\n",
    "if spam == 1:\n",
    "    print(\"Hello\")\n",
    "elif spam == 2:\n",
    "    print(\"Howdy\")\n",
    "else:\n",
    "    print(\"Greetings!\")\n"
   ]
  },
  {
   "cell_type": "markdown",
   "id": "db23cf48",
   "metadata": {},
   "source": [
    "Q9.If your programme is stuck in an endless loop, what keys you’ll press?\n",
    "\n",
    "Ans. You can stop an infinite loop with CTRL + C . You can generate an infinite loop intentionally with while True . The break statement can be used to stop a while loop immediately."
   ]
  },
  {
   "cell_type": "markdown",
   "id": "d0fe8ef5",
   "metadata": {},
   "source": [
    "Q10. 10. How can you tell the difference between break and continue?\n",
    "\n",
    "Ans.\n",
    "Break and continue are two control flow statements used in loops (such as for loops and while loops) to alter the execution flow. Here's how you can differentiate between break and continue:\n",
    "1. Break:\n",
    "\n",
    "        1. The break statement is used to terminate the loop it is contained within prematurely.\n",
    "        2. When encountered, the break statement immediately exits the loop, and the program continues with the next \n",
    "        statement after the loop.\n",
    "        3. It is typically used to abruptly end the loop execution based on certain conditions.\n",
    "Example:"
   ]
  },
  {
   "cell_type": "code",
   "execution_count": 10,
   "id": "37c43465",
   "metadata": {},
   "outputs": [
    {
     "name": "stdout",
     "output_type": "stream",
     "text": [
      "1\n",
      "2\n",
      "3\n",
      "4\n"
     ]
    }
   ],
   "source": [
    "for i in range(1, 10):\n",
    "    if i == 5:\n",
    "        break\n",
    "    print(i)\n",
    "\n",
    "# In this example, the loop iterates from 1 to 9, and when i becomes 5, the break statement is encountered, \n",
    "# causing the loop to terminate. As a result, only the numbers 1, 2, 3, and 4 are printed.\n"
   ]
  },
  {
   "cell_type": "markdown",
   "id": "0f2c2b2e",
   "metadata": {},
   "source": [
    "2. Continue:\n",
    "\n",
    "    1.The continue statement is used to skip the remaining statements within the loop for the current iteration and move to the next iteration.\n",
    "    \n",
    "    2.When encountered, the continue statement jumps back to the loop's control condition or increment statement, skipping the subsequent statements within the loop for the current iteration.\n",
    "    \n",
    "    3.It is typically used to selectively skip certain iterations based on specific conditions.\n",
    "Example:"
   ]
  },
  {
   "cell_type": "code",
   "execution_count": 13,
   "id": "18db1ada",
   "metadata": {},
   "outputs": [
    {
     "name": "stdout",
     "output_type": "stream",
     "text": [
      "1\n",
      "2\n",
      "4\n",
      "5\n"
     ]
    }
   ],
   "source": [
    "for i in range(1, 6):\n",
    "    if i == 3:\n",
    "        continue\n",
    "    print(i)\n",
    "    \n",
    "# In this example, the loop iterates from 1 to 5. When i becomes 3, the continue statement is encountered,\n",
    "# causing the loop to skip the print(i) statement for that iteration. As a result, the number 3 is skipped, \n",
    "# and the output will be 1, 2, 4, and 5.\n"
   ]
  },
  {
   "cell_type": "markdown",
   "id": "1a58e95f",
   "metadata": {},
   "source": [
    "In summary, the break statement is used to terminate the loop completely, while the continue statement is used to skip the remaining statements within the loop for the current iteration and move on to the next iteration."
   ]
  },
  {
   "cell_type": "markdown",
   "id": "1e49376f",
   "metadata": {},
   "source": [
    "Q11. In a for loop, what is the difference between range(10), range(0, 10), and range(0, 10, 1)?\n",
    "\n",
    "Ans. In a for loop, the expressions range(10), range(0, 10), and range(0, 10, 1) generate a sequence of numbers that can be used to iterate over. While they produce the same output, there are some differences in how they are defined. Here's a breakdown of the differences:\n",
    "\n",
    "1. range(10):\n",
    "\n",
    "    1.This expression generates a sequence of numbers starting from 0 (by default) up to, but not including, the specified number (10 in this case).\n",
    "    \n",
    "    2.The start value is implicitly considered as 0, and the step value is implicitly considered as 1.\n",
    "    \n",
    "    Example:"
   ]
  },
  {
   "cell_type": "code",
   "execution_count": 15,
   "id": "3f933d02",
   "metadata": {},
   "outputs": [
    {
     "name": "stdout",
     "output_type": "stream",
     "text": [
      "0\n",
      "1\n",
      "2\n",
      "3\n",
      "4\n",
      "5\n",
      "6\n",
      "7\n",
      "8\n",
      "9\n"
     ]
    }
   ],
   "source": [
    "for i in range(10):\n",
    "    print(i)\n"
   ]
  },
  {
   "cell_type": "markdown",
   "id": "9517c122",
   "metadata": {},
   "source": [
    "2. range(0, 10):\n",
    "\n",
    "1. This expression generates a sequence of numbers starting from the specified start value (0 in this case) up to, but not including, the specified end value (10 in this case).\n",
    "\n",
    "2. The step value is implicitly considered as 1.\n",
    "\n",
    "Example:"
   ]
  },
  {
   "cell_type": "code",
   "execution_count": 16,
   "id": "5ce52944",
   "metadata": {},
   "outputs": [
    {
     "name": "stdout",
     "output_type": "stream",
     "text": [
      "0\n",
      "1\n",
      "2\n",
      "3\n",
      "4\n",
      "5\n",
      "6\n",
      "7\n",
      "8\n",
      "9\n"
     ]
    }
   ],
   "source": [
    "for i in range(0, 10):\n",
    "    print(i)\n"
   ]
  },
  {
   "cell_type": "markdown",
   "id": "c3000f41",
   "metadata": {},
   "source": [
    "3. range(0, 10, 1):\n",
    "\n",
    "1. This expression generates a sequence of numbers starting from the specified start value (0 in this case) up to, but not including, the specified end value (10 in this case), incrementing by the specified step value (1 in this case).\n",
    "\n",
    "Example:"
   ]
  },
  {
   "cell_type": "code",
   "execution_count": 17,
   "id": "c31f158e",
   "metadata": {},
   "outputs": [
    {
     "name": "stdout",
     "output_type": "stream",
     "text": [
      "0\n",
      "1\n",
      "2\n",
      "3\n",
      "4\n",
      "5\n",
      "6\n",
      "7\n",
      "8\n",
      "9\n"
     ]
    }
   ],
   "source": [
    "for i in range(0, 10, 1):\n",
    "    print(i)\n"
   ]
  },
  {
   "cell_type": "markdown",
   "id": "bef904ee",
   "metadata": {},
   "source": [
    "In summary, range(10), range(0, 10), and range(0, 10, 1) all produce the same sequence of numbers from 0 to 9. The difference lies in how the start value, end value, and step value are specified explicitly or implicitly."
   ]
  },
  {
   "cell_type": "code",
   "execution_count": null,
   "id": "82cfc6db",
   "metadata": {},
   "outputs": [],
   "source": [
    "Q12. Write a short program that prints the numbers 1 to 10 using a for loop. Then write an equivalent\n",
    "program that prints the numbers 1 to 10 using a while loop.\n",
    "\n",
    "Ans."
   ]
  },
  {
   "cell_type": "code",
   "execution_count": 18,
   "id": "a0eb23cf",
   "metadata": {},
   "outputs": [
    {
     "name": "stdout",
     "output_type": "stream",
     "text": [
      "1\n",
      "2\n",
      "3\n",
      "4\n",
      "5\n",
      "6\n",
      "7\n",
      "8\n",
      "9\n",
      "10\n"
     ]
    }
   ],
   "source": [
    "for i in range(1,11):\n",
    "    print(i)"
   ]
  },
  {
   "cell_type": "code",
   "execution_count": 20,
   "id": "32f5cec2",
   "metadata": {},
   "outputs": [
    {
     "name": "stdout",
     "output_type": "stream",
     "text": [
      "1\n",
      "2\n",
      "3\n",
      "4\n",
      "5\n",
      "6\n",
      "7\n",
      "8\n",
      "9\n",
      "10\n"
     ]
    }
   ],
   "source": [
    "i=1\n",
    "while i<11:\n",
    "    print(i)\n",
    "    i+=1"
   ]
  },
  {
   "cell_type": "markdown",
   "id": "bdbb1972",
   "metadata": {},
   "source": [
    "Q13. If you had a function named bacon() inside a module named spam, how would you call it after\n",
    "importing spam?\n",
    "\n",
    "Ans."
   ]
  },
  {
   "cell_type": "code",
   "execution_count": null,
   "id": "771a33ba",
   "metadata": {},
   "outputs": [],
   "source": [
    "import spam\n",
    "\n",
    "spam.bacon()\n",
    "\n",
    "# The import spam statement imports the spam module into your current Python script or program.\n",
    "# To call the bacon() function, you prefix it with the module name (spam) followed by a dot (.) to access the function within \n",
    "# the module.\n",
    "# Therefore, spam.bacon() invokes the bacon() function defined inside the spam module.\n",
    "# By using this syntax, you can access and call functions, variables, or other objects defined within the imported module.\n",
    "\n",
    "\n",
    "\n",
    "\n",
    "\n",
    "\n"
   ]
  }
 ],
 "metadata": {
  "kernelspec": {
   "display_name": "Python 3 (ipykernel)",
   "language": "python",
   "name": "python3"
  },
  "language_info": {
   "codemirror_mode": {
    "name": "ipython",
    "version": 3
   },
   "file_extension": ".py",
   "mimetype": "text/x-python",
   "name": "python",
   "nbconvert_exporter": "python",
   "pygments_lexer": "ipython3",
   "version": "3.9.6"
  }
 },
 "nbformat": 4,
 "nbformat_minor": 5
}
